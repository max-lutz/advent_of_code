{
 "cells": [
  {
   "cell_type": "markdown",
   "id": "8455b3f1",
   "metadata": {},
   "source": [
    "## Example"
   ]
  },
  {
   "cell_type": "code",
   "execution_count": 28,
   "id": "0c49d9d3",
   "metadata": {},
   "outputs": [],
   "source": [
    "import pandas as pd\n",
    "import numpy as np\n",
    "from collections import defaultdict"
   ]
  },
  {
   "cell_type": "code",
   "execution_count": 3,
   "id": "49239b07",
   "metadata": {},
   "outputs": [],
   "source": [
    "example = \"\"\"\n",
    "    [D]    \n",
    "[N] [C]    \n",
    "[Z] [M] [P]\n",
    " 1   2   3 \n",
    "\n",
    "move 1 from 2 to 1\n",
    "move 3 from 1 to 3\n",
    "move 2 from 2 to 1\n",
    "move 1 from 1 to 2\n",
    "\"\"\""
   ]
  },
  {
   "cell_type": "code",
   "execution_count": 94,
   "id": "2e66cbb5",
   "metadata": {},
   "outputs": [],
   "source": [
    "def load_stacks(instructions):\n",
    "    starting_stacks, movements = instructions.split(\"\\n\\n\")\n",
    "    starting_stacks = [[c for c in s] for s in starting_stacks.split('\\n') if s]\n",
    "    df = pd.DataFrame(starting_stacks)\n",
    "    cols = [c for c in df.columns if df.iloc[-1, :].loc[c] in '1234567890']\n",
    "    df = df[cols]\n",
    "\n",
    "    stacks = defaultdict(list)\n",
    "    for line in np.flip(df.values.T, axis=1):\n",
    "        for c in line[1:]:\n",
    "            if(c != ' '):\n",
    "                stacks[line[0]].append(c)\n",
    "    return stacks"
   ]
  },
  {
   "cell_type": "code",
   "execution_count": 95,
   "id": "d2bec51e",
   "metadata": {},
   "outputs": [],
   "source": [
    "def apply_movements(instructions, stacks):\n",
    "    starting_stacks, movements = instructions.split(\"\\n\\n\")\n",
    "    \n",
    "    for movement in movements.split(\"\\n\"):\n",
    "        if(movement):\n",
    "#             print(movement)\n",
    "            _, n_elem, _, initial_stack, _, final_stack = movement.split(' ')\n",
    "            for i in range(int(n_elem)):\n",
    "                stacks[final_stack].append(stacks[initial_stack].pop())\n",
    "#             print(stacks)\n",
    "    return stacks"
   ]
  },
  {
   "cell_type": "code",
   "execution_count": 103,
   "id": "53f08323",
   "metadata": {},
   "outputs": [],
   "source": [
    "def apply_movements_crateMover_9001(instructions, stacks):\n",
    "    starting_stacks, movements = instructions.split(\"\\n\\n\")\n",
    "    for movement in movements.split(\"\\n\"):\n",
    "        if(movement):\n",
    "            tmp_stack = []\n",
    "            _, n_elem, _, initial_stack, _, final_stack = movement.split(' ')\n",
    "            for i in range(int(n_elem)):\n",
    "                tmp_stack.append(stacks[initial_stack].pop())\n",
    "            for i in range(1, len(tmp_stack)+1):\n",
    "                stacks[final_stack].append(tmp_stack[-i])\n",
    "\n",
    "    return stacks"
   ]
  },
  {
   "cell_type": "code",
   "execution_count": 105,
   "id": "bab98000",
   "metadata": {},
   "outputs": [
    {
     "name": "stdout",
     "output_type": "stream",
     "text": [
      "CMZ\n",
      "MCD"
     ]
    }
   ],
   "source": [
    "stacks = load_stacks(example)\n",
    "stacks = apply_movements(example, stacks)\n",
    "for key in stacks.keys():\n",
    "    print(stacks[key].pop(), end='')\n",
    "    \n",
    "print(\"\")\n",
    "    \n",
    "stacks = load_stacks(example)\n",
    "stacks = apply_movements_crateMover_9001(example, stacks)\n",
    "for key in stacks.keys():\n",
    "    print(stacks[key].pop(), end='')"
   ]
  },
  {
   "cell_type": "code",
   "execution_count": 97,
   "id": "0458ea11",
   "metadata": {},
   "outputs": [
    {
     "name": "stdout",
     "output_type": "stream",
     "text": [
      "CMZ"
     ]
    }
   ],
   "source": [
    "for key in stacks.keys():\n",
    "    print(stacks[key].pop(), end='')"
   ]
  },
  {
   "cell_type": "markdown",
   "id": "ea4880de",
   "metadata": {},
   "source": [
    "## Puzzle 1"
   ]
  },
  {
   "cell_type": "code",
   "execution_count": 106,
   "id": "d8f90a3f",
   "metadata": {},
   "outputs": [
    {
     "name": "stdout",
     "output_type": "stream",
     "text": [
      "VJSFHWGFT\n",
      "LCTQFBVZV"
     ]
    }
   ],
   "source": [
    "import aocd\n",
    "instructions = aocd.get_data(day=5, year=2022)\n",
    "\n",
    "stacks = load_stacks(instructions)\n",
    "stacks = apply_movements(instructions, stacks)\n",
    "for key in stacks.keys():\n",
    "    print(stacks[key].pop(), end='')\n",
    "    \n",
    "print(\"\")\n",
    "    \n",
    "stacks = load_stacks(instructions)\n",
    "stacks = apply_movements_crateMover_9001(instructions, stacks)\n",
    "for key in stacks.keys():\n",
    "    print(stacks[key].pop(), end='')"
   ]
  },
  {
   "cell_type": "code",
   "execution_count": null,
   "id": "95ff1b37",
   "metadata": {},
   "outputs": [],
   "source": []
  },
  {
   "cell_type": "code",
   "execution_count": null,
   "id": "c267106d",
   "metadata": {},
   "outputs": [],
   "source": []
  }
 ],
 "metadata": {
  "kernelspec": {
   "display_name": "Python 3 (ipykernel)",
   "language": "python",
   "name": "python3"
  },
  "language_info": {
   "codemirror_mode": {
    "name": "ipython",
    "version": 3
   },
   "file_extension": ".py",
   "mimetype": "text/x-python",
   "name": "python",
   "nbconvert_exporter": "python",
   "pygments_lexer": "ipython3",
   "version": "3.8.15"
  }
 },
 "nbformat": 4,
 "nbformat_minor": 5
}
