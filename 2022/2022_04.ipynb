{
 "cells": [
  {
   "cell_type": "markdown",
   "id": "8455b3f1",
   "metadata": {},
   "source": [
    "## Example"
   ]
  },
  {
   "cell_type": "code",
   "execution_count": 1,
   "id": "0c49d9d3",
   "metadata": {},
   "outputs": [],
   "source": [
    "import numpy as np\n",
    "from tqdm import tqdm"
   ]
  },
  {
   "cell_type": "code",
   "execution_count": 2,
   "id": "49239b07",
   "metadata": {},
   "outputs": [],
   "source": [
    "example = \"\"\"\n",
    "2-4,6-8\n",
    "2-3,4-5\n",
    "5-7,7-9\n",
    "2-8,3-7\n",
    "6-6,4-6\n",
    "2-6,4-8\n",
    "\"\"\""
   ]
  },
  {
   "cell_type": "code",
   "execution_count": 3,
   "id": "51bbe443",
   "metadata": {},
   "outputs": [
    {
     "data": {
      "text/plain": [
       "[2, 3]"
      ]
     },
     "execution_count": 3,
     "metadata": {},
     "output_type": "execute_result"
    }
   ],
   "source": [
    "list(range(2, 4))"
   ]
  },
  {
   "cell_type": "code",
   "execution_count": 4,
   "id": "1fdd36c0",
   "metadata": {},
   "outputs": [],
   "source": [
    "def calculate_score(lines):\n",
    "    score = 0\n",
    "    for line in lines.split(\"\\n\"):\n",
    "        if(line):\n",
    "            start_1, stop_1 = line.split(\",\")[0].split(\"-\")\n",
    "            start_2, stop_2 = line.split(\",\")[1].split(\"-\")\n",
    "            if(int(start_1) >= int(start_2) and int(stop_1) <= int(stop_2)):\n",
    "                score += 1\n",
    "            elif(int(start_2) >= int(start_1) and int(stop_2) <= int(stop_1)):\n",
    "                score += 1\n",
    "    return score"
   ]
  },
  {
   "cell_type": "code",
   "execution_count": 7,
   "id": "c010235a",
   "metadata": {},
   "outputs": [],
   "source": [
    "def calculate_score_2(lines):\n",
    "    score = 0\n",
    "    for line in tqdm(lines.split(\"\\n\")):\n",
    "        if(line):\n",
    "            overlap = False\n",
    "            start_1, stop_1 = line.split(\",\")[0].split(\"-\")\n",
    "            start_2, stop_2 = line.split(\",\")[1].split(\"-\")\n",
    "            for i in list(range(int(start_1), int(stop_1)+1)):\n",
    "                if i in list(range(int(start_2), int(stop_2)+1)):\n",
    "                    overlap=True\n",
    "            if(overlap):\n",
    "                score += 1\n",
    "    return score"
   ]
  },
  {
   "cell_type": "code",
   "execution_count": 8,
   "id": "bab98000",
   "metadata": {},
   "outputs": [
    {
     "name": "stderr",
     "output_type": "stream",
     "text": [
      "100%|██████████████████████████████████████████| 8/8 [00:00<00:00, 34592.20it/s]\n"
     ]
    },
    {
     "data": {
      "text/plain": [
       "(2, 4)"
      ]
     },
     "execution_count": 8,
     "metadata": {},
     "output_type": "execute_result"
    }
   ],
   "source": [
    "calculate_score(example), calculate_score_2(example)"
   ]
  },
  {
   "cell_type": "markdown",
   "id": "ea4880de",
   "metadata": {},
   "source": [
    "## Puzzle 1"
   ]
  },
  {
   "cell_type": "code",
   "execution_count": 9,
   "id": "d8f90a3f",
   "metadata": {},
   "outputs": [
    {
     "name": "stderr",
     "output_type": "stream",
     "text": [
      "100%|████████████████████████████████████| 1000/1000 [00:00<00:00, 32690.62it/s]\n"
     ]
    },
    {
     "data": {
      "text/plain": [
       "(556, 876)"
      ]
     },
     "execution_count": 9,
     "metadata": {},
     "output_type": "execute_result"
    }
   ],
   "source": [
    "import aocd\n",
    "instructions = aocd.get_data(day=4, year=2022)\n",
    "calculate_score(instructions), calculate_score_2(instructions)"
   ]
  },
  {
   "cell_type": "code",
   "execution_count": null,
   "id": "c267106d",
   "metadata": {},
   "outputs": [],
   "source": []
  }
 ],
 "metadata": {
  "kernelspec": {
   "display_name": "Python 3 (ipykernel)",
   "language": "python",
   "name": "python3"
  },
  "language_info": {
   "codemirror_mode": {
    "name": "ipython",
    "version": 3
   },
   "file_extension": ".py",
   "mimetype": "text/x-python",
   "name": "python",
   "nbconvert_exporter": "python",
   "pygments_lexer": "ipython3",
   "version": "3.8.15"
  }
 },
 "nbformat": 4,
 "nbformat_minor": 5
}
