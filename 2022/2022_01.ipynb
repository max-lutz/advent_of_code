{
 "cells": [
  {
   "cell_type": "markdown",
   "id": "8455b3f1",
   "metadata": {},
   "source": [
    "## Example"
   ]
  },
  {
   "cell_type": "code",
   "execution_count": 2,
   "id": "49239b07",
   "metadata": {},
   "outputs": [],
   "source": [
    "example = \"\"\"\n",
    "1000\n",
    "2000\n",
    "3000\n",
    "\n",
    "4000\n",
    "\n",
    "5000\n",
    "6000\n",
    "\n",
    "7000\n",
    "8000\n",
    "9000\n",
    "\n",
    "10000\n",
    "\"\"\""
   ]
  },
  {
   "cell_type": "code",
   "execution_count": 18,
   "id": "a21555d5",
   "metadata": {},
   "outputs": [
    {
     "name": "stdout",
     "output_type": "stream",
     "text": [
      "24000\n"
     ]
    }
   ],
   "source": [
    "calories_per_elf = [sum([int(item) for item in group.split(\"\\n\") if item]) for group in example.split(\"\\n\\n\")]\n",
    "print(max(calories_per_elf))"
   ]
  },
  {
   "cell_type": "markdown",
   "id": "ea4880de",
   "metadata": {},
   "source": [
    "## Puzzle 1"
   ]
  },
  {
   "cell_type": "code",
   "execution_count": 24,
   "id": "d8f90a3f",
   "metadata": {},
   "outputs": [
    {
     "name": "stdout",
     "output_type": "stream",
     "text": [
      "72718\n",
      "213089\n"
     ]
    }
   ],
   "source": [
    "import aocd\n",
    "instructions = aocd.get_data(day=1, year=2022)\n",
    "calories_per_elf = [sum([int(e) for e in g.split(\"\\n\") if e]) for g in instructions.split(\"\\n\\n\")]\n",
    "print(max(calories_per_elf))\n",
    "calories_per_elf.sort()\n",
    "print(sum(calories_per_elf[-3:]))"
   ]
  }
 ],
 "metadata": {
  "kernelspec": {
   "display_name": "Python 3 (ipykernel)",
   "language": "python",
   "name": "python3"
  },
  "language_info": {
   "codemirror_mode": {
    "name": "ipython",
    "version": 3
   },
   "file_extension": ".py",
   "mimetype": "text/x-python",
   "name": "python",
   "nbconvert_exporter": "python",
   "pygments_lexer": "ipython3",
   "version": "3.8.15"
  }
 },
 "nbformat": 4,
 "nbformat_minor": 5
}
