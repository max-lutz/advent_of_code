{
 "cells": [
  {
   "cell_type": "markdown",
   "id": "8455b3f1",
   "metadata": {},
   "source": [
    "## Example"
   ]
  },
  {
   "cell_type": "code",
   "execution_count": 6,
   "id": "8008e778",
   "metadata": {},
   "outputs": [],
   "source": [
    "example = \"mjqjpqmgbljsphdztnvjfqwrcgsmlb\""
   ]
  },
  {
   "cell_type": "code",
   "execution_count": 10,
   "id": "45a4eea3",
   "metadata": {},
   "outputs": [],
   "source": [
    "def find_marker(instructions, l):\n",
    "    for i in range(len(instructions)-l):\n",
    "        if(len(set(instructions[i:i+l])) == l):\n",
    "            return i + l"
   ]
  },
  {
   "cell_type": "code",
   "execution_count": 11,
   "id": "23b2355b",
   "metadata": {},
   "outputs": [
    {
     "data": {
      "text/plain": [
       "(7, 19)"
      ]
     },
     "execution_count": 11,
     "metadata": {},
     "output_type": "execute_result"
    }
   ],
   "source": [
    "find_marker(example, 4), find_marker(example, 14)"
   ]
  },
  {
   "cell_type": "markdown",
   "id": "ea4880de",
   "metadata": {},
   "source": [
    "## Puzzle 1"
   ]
  },
  {
   "cell_type": "code",
   "execution_count": 12,
   "id": "d8f90a3f",
   "metadata": {},
   "outputs": [
    {
     "data": {
      "text/plain": [
       "(1766, 2383)"
      ]
     },
     "execution_count": 12,
     "metadata": {},
     "output_type": "execute_result"
    }
   ],
   "source": [
    "import aocd\n",
    "instructions = aocd.get_data(day=6, year=2022)\n",
    "find_marker(instructions, 4), find_marker(instructions, 14)"
   ]
  },
  {
   "cell_type": "code",
   "execution_count": null,
   "id": "95ff1b37",
   "metadata": {},
   "outputs": [],
   "source": []
  },
  {
   "cell_type": "code",
   "execution_count": null,
   "id": "c267106d",
   "metadata": {},
   "outputs": [],
   "source": []
  }
 ],
 "metadata": {
  "kernelspec": {
   "display_name": "Python 3 (ipykernel)",
   "language": "python",
   "name": "python3"
  },
  "language_info": {
   "codemirror_mode": {
    "name": "ipython",
    "version": 3
   },
   "file_extension": ".py",
   "mimetype": "text/x-python",
   "name": "python",
   "nbconvert_exporter": "python",
   "pygments_lexer": "ipython3",
   "version": "3.8.15"
  }
 },
 "nbformat": 4,
 "nbformat_minor": 5
}
