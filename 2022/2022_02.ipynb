{
 "cells": [
  {
   "cell_type": "markdown",
   "id": "8455b3f1",
   "metadata": {},
   "source": [
    "## Example"
   ]
  },
  {
   "cell_type": "code",
   "execution_count": 38,
   "id": "49239b07",
   "metadata": {},
   "outputs": [],
   "source": [
    "example = \"\"\"\n",
    "A Y\n",
    "B X\n",
    "C Z\n",
    "\"\"\""
   ]
  },
  {
   "cell_type": "code",
   "execution_count": 39,
   "id": "b1eb7658",
   "metadata": {},
   "outputs": [],
   "source": [
    "shapes = {\n",
    "    \"A\":{\"value\":1, \"win\":\"C\", \"lose\":\"B\"},\n",
    "    \"B\":{\"value\":2, \"win\":\"A\", \"lose\":\"C\"},\n",
    "    \"C\":{\"value\":3, \"win\":\"B\", \"lose\":\"A\"}\n",
    "}\n",
    "\n",
    "order = [\"lose\", \"draw\", \"win\"]"
   ]
  },
  {
   "cell_type": "code",
   "execution_count": 40,
   "id": "a21555d5",
   "metadata": {},
   "outputs": [],
   "source": [
    "def calculate_score_strategy_1(instructions):\n",
    "    score = 0\n",
    "    for line in instructions.split(\"\\n\"):\n",
    "        if(line):\n",
    "            opponent, mine = line.split(\" \")\n",
    "            mine = chr(ord(mine) - (ord(\"X\")-ord(\"A\")))\n",
    "            score += shapes[mine][\"value\"]\n",
    "\n",
    "            if(opponent == mine):\n",
    "                score += 3    # draw\n",
    "            if(opponent == shapes[mine][\"win\"]):\n",
    "                score += 6    # I win \n",
    "    return score"
   ]
  },
  {
   "cell_type": "code",
   "execution_count": 43,
   "id": "bcf661b9",
   "metadata": {},
   "outputs": [],
   "source": [
    "def calculate_score_strategy_2(instructions):\n",
    "    score = 0\n",
    "    for line in instructions.split(\"\\n\"):\n",
    "        if(line):\n",
    "            opponent, mine = line.split(\" \")\n",
    "            mine = ord(mine) - ord(\"X\")\n",
    "            score += mine*3\n",
    "\n",
    "            if(order[mine] == \"lose\"):\n",
    "                score += ord(shapes[opponent][\"win\"]) - ord(\"A\") + 1\n",
    "            elif(order[mine] == \"win\"):\n",
    "                score += ord(shapes[opponent][\"lose\"]) - ord(\"A\") + 1\n",
    "            else:\n",
    "                score += ord(opponent) - ord(\"A\") + 1\n",
    "    return score"
   ]
  },
  {
   "cell_type": "code",
   "execution_count": 44,
   "id": "d41825ce",
   "metadata": {},
   "outputs": [
    {
     "data": {
      "text/plain": [
       "(15, 12)"
      ]
     },
     "execution_count": 44,
     "metadata": {},
     "output_type": "execute_result"
    }
   ],
   "source": [
    "calculate_score_strategy_1(example), calculate_score_strategy_2(example)"
   ]
  },
  {
   "cell_type": "markdown",
   "id": "ea4880de",
   "metadata": {},
   "source": [
    "## Puzzle 1"
   ]
  },
  {
   "cell_type": "code",
   "execution_count": 45,
   "id": "d8f90a3f",
   "metadata": {},
   "outputs": [
    {
     "data": {
      "text/plain": [
       "(9241, 14610)"
      ]
     },
     "execution_count": 45,
     "metadata": {},
     "output_type": "execute_result"
    }
   ],
   "source": [
    "import aocd\n",
    "instructions = aocd.get_data(day=2, year=2022)\n",
    "calculate_score_strategy_1(instructions), calculate_score_strategy_2(instructions)"
   ]
  },
  {
   "cell_type": "code",
   "execution_count": null,
   "id": "24a93068",
   "metadata": {},
   "outputs": [],
   "source": []
  }
 ],
 "metadata": {
  "kernelspec": {
   "display_name": "Python 3 (ipykernel)",
   "language": "python",
   "name": "python3"
  },
  "language_info": {
   "codemirror_mode": {
    "name": "ipython",
    "version": 3
   },
   "file_extension": ".py",
   "mimetype": "text/x-python",
   "name": "python",
   "nbconvert_exporter": "python",
   "pygments_lexer": "ipython3",
   "version": "3.8.15"
  }
 },
 "nbformat": 4,
 "nbformat_minor": 5
}
