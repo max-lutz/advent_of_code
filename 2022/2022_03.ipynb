{
 "cells": [
  {
   "cell_type": "markdown",
   "id": "8455b3f1",
   "metadata": {},
   "source": [
    "## Example"
   ]
  },
  {
   "cell_type": "code",
   "execution_count": 23,
   "id": "49239b07",
   "metadata": {},
   "outputs": [],
   "source": [
    "example = \"\"\"\n",
    "vJrwpWtwJgWrhcsFMMfFFhFp\n",
    "jqHRNqRjqzjGDLGLrsFMfFZSrLrFZsSL\n",
    "PmmdzqPrVvPwwTWBwg\n",
    "wMqvLMZHhHMvwLHjbvcjnnSBnvTQFn\n",
    "ttgJtRGJQctTZtZT\n",
    "CrZsJsPPZsGzwwsLwLmpwMDw\n",
    "\"\"\""
   ]
  },
  {
   "cell_type": "code",
   "execution_count": 30,
   "id": "1fdd36c0",
   "metadata": {},
   "outputs": [],
   "source": [
    "def calculate_score(lines):\n",
    "    score = 0\n",
    "    for line in lines.split(\"\\n\"):\n",
    "        for c in set(line[0:int(len(line)/2)]):\n",
    "            if c in line[int(len(line)/2):]:\n",
    "                if(ord(c) >= ord(\"a\") and ord(c) <= ord(\"z\")):\n",
    "                    score += ord(c) - ord(\"a\") + 1\n",
    "                else:\n",
    "                    score += ord(c) - ord(\"A\") + 27                \n",
    "    return score"
   ]
  },
  {
   "cell_type": "code",
   "execution_count": 54,
   "id": "c010235a",
   "metadata": {},
   "outputs": [],
   "source": [
    "def calculate_score_2(lines):\n",
    "    score = 0\n",
    "    lines = [l for l in lines.split(\"\\n\") if l]\n",
    "    for i in range(int(len(lines)/3)):\n",
    "        idx = i*3\n",
    "        for c in set(lines[idx]):\n",
    "            if c in lines[idx+1] and c in lines[idx+2]:\n",
    "                if(ord(c) >= ord(\"a\") and ord(c) <= ord(\"z\")):\n",
    "                    score += ord(c) - ord(\"a\") + 1\n",
    "                else:\n",
    "                    score += ord(c) - ord(\"A\") + 27   \n",
    "        i = i + 2\n",
    "    return score"
   ]
  },
  {
   "cell_type": "code",
   "execution_count": 55,
   "id": "bab98000",
   "metadata": {},
   "outputs": [
    {
     "data": {
      "text/plain": [
       "(157, 70)"
      ]
     },
     "execution_count": 55,
     "metadata": {},
     "output_type": "execute_result"
    }
   ],
   "source": [
    "calculate_score(example), calculate_score_2(example)"
   ]
  },
  {
   "cell_type": "markdown",
   "id": "ea4880de",
   "metadata": {},
   "source": [
    "## Puzzle 1"
   ]
  },
  {
   "cell_type": "code",
   "execution_count": 56,
   "id": "d8f90a3f",
   "metadata": {},
   "outputs": [
    {
     "data": {
      "text/plain": [
       "(8105, 2363)"
      ]
     },
     "execution_count": 56,
     "metadata": {},
     "output_type": "execute_result"
    }
   ],
   "source": [
    "import aocd\n",
    "instructions = aocd.get_data(day=3, year=2022)\n",
    "calculate_score(instructions), calculate_score_2(instructions)"
   ]
  },
  {
   "cell_type": "code",
   "execution_count": null,
   "id": "24a93068",
   "metadata": {},
   "outputs": [],
   "source": []
  }
 ],
 "metadata": {
  "kernelspec": {
   "display_name": "Python 3 (ipykernel)",
   "language": "python",
   "name": "python3"
  },
  "language_info": {
   "codemirror_mode": {
    "name": "ipython",
    "version": 3
   },
   "file_extension": ".py",
   "mimetype": "text/x-python",
   "name": "python",
   "nbconvert_exporter": "python",
   "pygments_lexer": "ipython3",
   "version": "3.8.15"
  }
 },
 "nbformat": 4,
 "nbformat_minor": 5
}
