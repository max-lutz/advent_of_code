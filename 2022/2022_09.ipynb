{
 "cells": [
  {
   "cell_type": "markdown",
   "id": "8455b3f1",
   "metadata": {},
   "source": [
    "## Example"
   ]
  },
  {
   "cell_type": "code",
   "execution_count": 7,
   "id": "2bebcdd2",
   "metadata": {},
   "outputs": [],
   "source": [
    "import math\n",
    "import numpy as np"
   ]
  },
  {
   "cell_type": "code",
   "execution_count": 8,
   "id": "8008e778",
   "metadata": {},
   "outputs": [],
   "source": [
    "instructions = \"\"\"\n",
    "R 4\n",
    "U 4\n",
    "L 3\n",
    "D 1\n",
    "R 4\n",
    "D 1\n",
    "L 5\n",
    "R 2\n",
    "\"\"\""
   ]
  },
  {
   "cell_type": "code",
   "execution_count": 9,
   "id": "821384d8",
   "metadata": {},
   "outputs": [],
   "source": [
    "directions = {\n",
    "    \"R\": np.array([0,1]),\n",
    "    \"D\": np.array([-1,0]),\n",
    "    \"U\": np.array([1,0]),\n",
    "    \"L\": np.array([0,-1])\n",
    "}"
   ]
  },
  {
   "cell_type": "code",
   "execution_count": 10,
   "id": "56d852db",
   "metadata": {},
   "outputs": [],
   "source": [
    "def tail_follows_head(head, tail):\n",
    "    if(math.dist(head, tail) >= 2):\n",
    "        tail = tail + np.clip((head - tail), -1, 1)\n",
    "    return tail"
   ]
  },
  {
   "cell_type": "code",
   "execution_count": 11,
   "id": "2e567f90",
   "metadata": {},
   "outputs": [],
   "source": [
    "def apply_instructions(instructions):\n",
    "    cell_visited = set()\n",
    "    head = np.array([0,0])\n",
    "    tail = np.array([0,0])\n",
    "    cell_visited.add(f\"{str(tail[0])}_{str(tail[1])}\")\n",
    "\n",
    "\n",
    "    for instruction in instructions:\n",
    "        direction_letter, movements = instruction.split(\" \")\n",
    "        direction = directions[direction_letter]\n",
    "        for _ in range(int(movements)):\n",
    "            head = head + direction\n",
    "            tail = tail_follows_head(head, tail)\n",
    "            cell_visited.add(f\"{str(tail[0])}_{str(tail[1])}\")\n",
    "    return len(cell_visited)"
   ]
  },
  {
   "cell_type": "code",
   "execution_count": 12,
   "id": "545c732d",
   "metadata": {},
   "outputs": [],
   "source": [
    "def apply_instructions_n_knots(instructions, n_knots):\n",
    "    cell_visited = set()\n",
    "    knots = []\n",
    "    for i in range(n_knots):\n",
    "        knots.append(np.array([0,0]))\n",
    "    cell_visited.add(f\"{str(knots[0][0])}_{str(knots[0][1])}\")\n",
    "\n",
    "    for instruction in instructions:\n",
    "        direction_letter, movements = instruction.split(\" \")\n",
    "        direction = directions[direction_letter]\n",
    "        for _ in range(int(movements)):\n",
    "            \n",
    "            knots[0] = knots[0] + direction\n",
    "            for i in range(1, len(knots)):\n",
    "                knots[i] = tail_follows_head(knots[i-1], knots[i])\n",
    "            cell_visited.add(f\"{str(knots[-1][0])}_{str(knots[-1][1])}\")\n",
    "    return len(cell_visited)"
   ]
  },
  {
   "cell_type": "code",
   "execution_count": 13,
   "id": "afd7d3a1",
   "metadata": {},
   "outputs": [
    {
     "data": {
      "text/plain": [
       "13"
      ]
     },
     "execution_count": 13,
     "metadata": {},
     "output_type": "execute_result"
    }
   ],
   "source": [
    "instructions = [l for l in instructions.split(\"\\n\") if l]\n",
    "apply_instructions(instructions)"
   ]
  },
  {
   "cell_type": "code",
   "execution_count": 14,
   "id": "68b56d73",
   "metadata": {},
   "outputs": [],
   "source": [
    "instructions=\"\"\"\n",
    "R 5\n",
    "U 8\n",
    "L 8\n",
    "D 3\n",
    "R 17\n",
    "D 10\n",
    "L 25\n",
    "U 20\n",
    "\"\"\""
   ]
  },
  {
   "cell_type": "code",
   "execution_count": 15,
   "id": "085a9a1c",
   "metadata": {},
   "outputs": [
    {
     "data": {
      "text/plain": [
       "36"
      ]
     },
     "execution_count": 15,
     "metadata": {},
     "output_type": "execute_result"
    }
   ],
   "source": [
    "instructions = [l for l in instructions.split(\"\\n\") if l]\n",
    "apply_instructions_n_knots(instructions, 10)"
   ]
  },
  {
   "cell_type": "code",
   "execution_count": null,
   "id": "74742643",
   "metadata": {},
   "outputs": [],
   "source": []
  },
  {
   "cell_type": "markdown",
   "id": "ea4880de",
   "metadata": {},
   "source": [
    "## Puzzle 1"
   ]
  },
  {
   "cell_type": "code",
   "execution_count": 16,
   "id": "d8f90a3f",
   "metadata": {},
   "outputs": [
    {
     "data": {
      "text/plain": [
       "(6311, 2482)"
      ]
     },
     "execution_count": 16,
     "metadata": {},
     "output_type": "execute_result"
    }
   ],
   "source": [
    "import aocd\n",
    "instructions = aocd.get_data(day=9, year=2022)\n",
    "instructions = [l for l in instructions.split(\"\\n\") if l]\n",
    "apply_instructions(instructions), apply_instructions_n_knots(instructions, 10)"
   ]
  },
  {
   "cell_type": "code",
   "execution_count": null,
   "id": "95ff1b37",
   "metadata": {},
   "outputs": [],
   "source": []
  },
  {
   "cell_type": "code",
   "execution_count": null,
   "id": "c267106d",
   "metadata": {},
   "outputs": [],
   "source": []
  }
 ],
 "metadata": {
  "kernelspec": {
   "display_name": "Python 3 (ipykernel)",
   "language": "python",
   "name": "python3"
  },
  "language_info": {
   "codemirror_mode": {
    "name": "ipython",
    "version": 3
   },
   "file_extension": ".py",
   "mimetype": "text/x-python",
   "name": "python",
   "nbconvert_exporter": "python",
   "pygments_lexer": "ipython3",
   "version": "3.8.16"
  }
 },
 "nbformat": 4,
 "nbformat_minor": 5
}
