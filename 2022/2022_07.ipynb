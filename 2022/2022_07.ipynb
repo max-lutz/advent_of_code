{
 "cells": [
  {
   "cell_type": "markdown",
   "id": "8455b3f1",
   "metadata": {},
   "source": [
    "## Example"
   ]
  },
  {
   "cell_type": "code",
   "execution_count": 7,
   "id": "487c74b0",
   "metadata": {},
   "outputs": [],
   "source": [
    "from collections import defaultdict"
   ]
  },
  {
   "cell_type": "code",
   "execution_count": 98,
   "id": "8008e778",
   "metadata": {},
   "outputs": [],
   "source": [
    "example = \"\"\"\n",
    "$ cd /\n",
    "$ ls\n",
    "dir a\n",
    "14848514 b.txt\n",
    "8504156 c.dat\n",
    "dir d\n",
    "$ cd a\n",
    "$ ls\n",
    "dir e\n",
    "29116 f\n",
    "2557 g\n",
    "62596 h.lst\n",
    "$ cd e\n",
    "$ ls\n",
    "584 i\n",
    "$ cd ..\n",
    "$ cd ..\n",
    "$ cd d\n",
    "$ ls\n",
    "4060174 j\n",
    "8033020 d.log\n",
    "5626152 d.ext\n",
    "7214296 k\n",
    "\"\"\""
   ]
  },
  {
   "cell_type": "code",
   "execution_count": 99,
   "id": "45a4eea3",
   "metadata": {},
   "outputs": [],
   "source": [
    "def populate_tree(instructions):\n",
    "    dir_name = instructions[0].split(\" \")[2]\n",
    "    dir_ = {\"dir\":dir_name, \"subdir\":[], \"size\":0}\n",
    "    instructions = instructions[2:]\n",
    "    \n",
    "    while(instructions):\n",
    "        a, *b = instructions[0].split(\" \")\n",
    "        if(a == \"$\"):\n",
    "            if(b[1] == \"..\"):\n",
    "                return dir_, instructions\n",
    "            else:\n",
    "                node, instructions = populate_tree(instructions)\n",
    "                dir_[\"subdir\"].append(node)\n",
    "                dir_[\"size\"] += node[\"size\"]\n",
    "        elif(a != \"dir\"):\n",
    "            dir_[\"size\"] += int(a)\n",
    "        \n",
    "        if(instructions):\n",
    "            instructions.pop(0)\n",
    "            \n",
    "    return dir_, []"
   ]
  },
  {
   "cell_type": "code",
   "execution_count": 100,
   "id": "c320e719",
   "metadata": {},
   "outputs": [],
   "source": [
    "def calculate_sum(node, current_sum):\n",
    "    if(node[\"size\"] <= 100000):\n",
    "        current_sum += node[\"size\"]\n",
    "    for child_node in node[\"subdir\"]:\n",
    "        current_sum = calculate_sum(child_node, current_sum)\n",
    "    return current_sum"
   ]
  },
  {
   "cell_type": "code",
   "execution_count": 101,
   "id": "e7c293c7",
   "metadata": {},
   "outputs": [],
   "source": [
    "def find_smallest(node, current_smallest, limit):\n",
    "    if((node[\"size\"] <= current_smallest) and (node[\"size\"] >= limit)):\n",
    "        current_smallest = node[\"size\"]\n",
    "    for child_node in node[\"subdir\"]:\n",
    "        current_smallest = find_smallest(child_node, current_smallest, limit)\n",
    "    return current_smallest"
   ]
  },
  {
   "cell_type": "code",
   "execution_count": 102,
   "id": "cc11ac6d",
   "metadata": {},
   "outputs": [
    {
     "data": {
      "text/plain": [
       "(95437, 24933642)"
      ]
     },
     "execution_count": 102,
     "metadata": {},
     "output_type": "execute_result"
    }
   ],
   "source": [
    "example = [l for l in example.split(\"\\n\") if l]\n",
    "tree, _ = populate_tree(example)\n",
    "calculate_sum(tree, 0), find_smallest(tree, 100_000_000, 30_000_000-(70_000_000-tree[\"size\"]))"
   ]
  },
  {
   "cell_type": "markdown",
   "id": "ea4880de",
   "metadata": {},
   "source": [
    "## Puzzle 1"
   ]
  },
  {
   "cell_type": "code",
   "execution_count": 103,
   "id": "d8f90a3f",
   "metadata": {},
   "outputs": [
    {
     "data": {
      "text/plain": [
       "(1555642, 5974547)"
      ]
     },
     "execution_count": 103,
     "metadata": {},
     "output_type": "execute_result"
    }
   ],
   "source": [
    "import aocd\n",
    "instructions = aocd.get_data(day=7, year=2022)\n",
    "\n",
    "instructions = [l for l in instructions.split(\"\\n\") if l]\n",
    "tree, _ = populate_tree(instructions)\n",
    "calculate_sum(tree, 0), find_smallest(tree, 100_000_000, 30_000_000-(70_000_000-tree[\"size\"]))"
   ]
  },
  {
   "cell_type": "code",
   "execution_count": null,
   "id": "c267106d",
   "metadata": {},
   "outputs": [],
   "source": []
  }
 ],
 "metadata": {
  "kernelspec": {
   "display_name": "Python 3 (ipykernel)",
   "language": "python",
   "name": "python3"
  },
  "language_info": {
   "codemirror_mode": {
    "name": "ipython",
    "version": 3
   },
   "file_extension": ".py",
   "mimetype": "text/x-python",
   "name": "python",
   "nbconvert_exporter": "python",
   "pygments_lexer": "ipython3",
   "version": "3.8.15"
  }
 },
 "nbformat": 4,
 "nbformat_minor": 5
}
