{
 "cells": [
  {
   "cell_type": "markdown",
   "id": "8455b3f1",
   "metadata": {},
   "source": [
    "## Example"
   ]
  },
  {
   "cell_type": "code",
   "execution_count": 51,
   "id": "487c74b0",
   "metadata": {},
   "outputs": [],
   "source": [
    "import numpy as np"
   ]
  },
  {
   "cell_type": "code",
   "execution_count": 52,
   "id": "8008e778",
   "metadata": {},
   "outputs": [],
   "source": [
    "example = \"\"\"\n",
    "30373\n",
    "25512\n",
    "65332\n",
    "33549\n",
    "35390\n",
    "\"\"\""
   ]
  },
  {
   "cell_type": "code",
   "execution_count": 53,
   "id": "6abe3781",
   "metadata": {},
   "outputs": [
    {
     "data": {
      "text/plain": [
       "array([[3, 0, 3, 7, 3],\n",
       "       [2, 5, 5, 1, 2],\n",
       "       [6, 5, 3, 3, 2],\n",
       "       [3, 3, 5, 4, 9],\n",
       "       [3, 5, 3, 9, 0]])"
      ]
     },
     "execution_count": 53,
     "metadata": {},
     "output_type": "execute_result"
    }
   ],
   "source": [
    "array = np.array([[int(e) for e in l] for l in example.split(\"\\n\") if l])\n",
    "array"
   ]
  },
  {
   "cell_type": "code",
   "execution_count": 64,
   "id": "b86c56fd",
   "metadata": {},
   "outputs": [],
   "source": [
    "def calculate_visible_trees(array):\n",
    "    n_visible = 2*array.shape[0] + 2*array.shape[1] - 4\n",
    "\n",
    "    for l in range(1, array.shape[0]-1):\n",
    "        for c in range(1, array.shape[1]-1):\n",
    "            if((array[l,c] > max(array[0:l,c])) or (array[l,c] > max(array[l+1:,c]))\n",
    "               or (array[l,c] > max(array[l,0:c])) or (array[l,c] > max(array[l,c+1:]))):\n",
    "                n_visible += 1\n",
    "    return n_visible\n",
    "\n",
    "def calculate_scenic_score(array):\n",
    "    best_scenic_score = 0\n",
    "    for l in range(1, array.shape[0]-1):\n",
    "        for c in range(1, array.shape[1]-1):\n",
    "            scenic_array = [0,0,0,0]\n",
    "            for idx, arr in enumerate([array[0:l,c], array[l+1:,c], array[l,0:c], array[l,c+1:]]):\n",
    "                if((idx == 0) or (idx == 2)):\n",
    "                    arr = arr[::-1]\n",
    "                for i in range(len(arr)):\n",
    "                    if(arr[i] < array[l,c]):\n",
    "                        scenic_array[idx] += 1\n",
    "                    else:\n",
    "                        scenic_array[idx] += 1\n",
    "                        break\n",
    "            best_scenic_score = max(best_scenic_score, \n",
    "                                    scenic_array[0]*scenic_array[1]*scenic_array[2]*scenic_array[3])\n",
    "    return best_scenic_score"
   ]
  },
  {
   "cell_type": "code",
   "execution_count": 65,
   "id": "aa75bc8c",
   "metadata": {},
   "outputs": [
    {
     "data": {
      "text/plain": [
       "(21, 8)"
      ]
     },
     "execution_count": 65,
     "metadata": {},
     "output_type": "execute_result"
    }
   ],
   "source": [
    "calculate_visible_trees(array), calculate_scenic_score(array)"
   ]
  },
  {
   "cell_type": "markdown",
   "id": "ea4880de",
   "metadata": {},
   "source": [
    "## Puzzle 1"
   ]
  },
  {
   "cell_type": "code",
   "execution_count": 67,
   "id": "d8f90a3f",
   "metadata": {},
   "outputs": [
    {
     "data": {
      "text/plain": [
       "(1533, 345744)"
      ]
     },
     "execution_count": 67,
     "metadata": {},
     "output_type": "execute_result"
    }
   ],
   "source": [
    "import aocd\n",
    "instructions = aocd.get_data(day=8, year=2022)\n",
    "array = np.array([[int(e) for e in l] for l in instructions.split(\"\\n\") if l])\n",
    "calculate_visible_trees(array), calculate_scenic_score(array)"
   ]
  },
  {
   "cell_type": "code",
   "execution_count": null,
   "id": "95ff1b37",
   "metadata": {},
   "outputs": [],
   "source": []
  },
  {
   "cell_type": "code",
   "execution_count": null,
   "id": "c267106d",
   "metadata": {},
   "outputs": [],
   "source": []
  }
 ],
 "metadata": {
  "kernelspec": {
   "display_name": "Python 3 (ipykernel)",
   "language": "python",
   "name": "python3"
  },
  "language_info": {
   "codemirror_mode": {
    "name": "ipython",
    "version": 3
   },
   "file_extension": ".py",
   "mimetype": "text/x-python",
   "name": "python",
   "nbconvert_exporter": "python",
   "pygments_lexer": "ipython3",
   "version": "3.8.15"
  }
 },
 "nbformat": 4,
 "nbformat_minor": 5
}
