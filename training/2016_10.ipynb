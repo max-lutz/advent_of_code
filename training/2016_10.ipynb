{
 "cells": [
  {
   "cell_type": "code",
   "execution_count": 1,
   "id": "b88467a5",
   "metadata": {},
   "outputs": [],
   "source": [
    "import re\n",
    "from collections import defaultdict"
   ]
  },
  {
   "cell_type": "code",
   "execution_count": 2,
   "id": "26c5edb1",
   "metadata": {},
   "outputs": [],
   "source": [
    "def initialize_bots(instruction):\n",
    "    bots = defaultdict(set)\n",
    "    for instruction in instructions:\n",
    "        if(\"value\" in instruction):\n",
    "            value, bot_number = re.findall('[0-9]+', instruction)\n",
    "            bots[f\"bot {bot_number}\"].add(int(value))\n",
    "    return bots"
   ]
  },
  {
   "cell_type": "code",
   "execution_count": 3,
   "id": "96679772",
   "metadata": {},
   "outputs": [],
   "source": [
    "def parse_instructions(instructions, bots, values_to_check):\n",
    "    while(max([len(values) for bot, values in bots.items() if \"bot\" in bot.split()[0]]) > 1):\n",
    "        for instruction in instructions:\n",
    "            if(\"gives\" in instruction):\n",
    "                i_ = instruction.split(\" \")\n",
    "                giver, receiv_low, receiv_high = f\"{i_[0]} {i_[1]}\", f\"{i_[5]} {i_[6]}\", f\"{i_[-2]} {i_[-1]}\"\n",
    "                if(bots[giver] == values_to_check):\n",
    "                    print(f'{giver} compared values values_to_check: {bots[giver]}')\n",
    "\n",
    "                if(len(bots[giver]) == 2):\n",
    "#                     print([(b, v) for b, v in bots.items() if len(v) > 1])\n",
    "#                     print(instruction)\n",
    "#                     print(\"\")\n",
    "                    bots[receiv_low].add(min(bots[giver]))\n",
    "                    bots[receiv_high].add(max(bots[giver]))\n",
    "                    bots[giver] = set()\n",
    "    print(bots[\"output 0\"].pop() * bots[\"output 1\"].pop() * bots[\"output 2\"].pop())"
   ]
  },
  {
   "cell_type": "markdown",
   "id": "436d2303",
   "metadata": {},
   "source": [
    "## Sample"
   ]
  },
  {
   "cell_type": "code",
   "execution_count": 4,
   "id": "85f0ae20",
   "metadata": {},
   "outputs": [],
   "source": [
    "sample = '''\n",
    "value 5 goes to bot 2\n",
    "bot 2 gives low to bot 1 and high to bot 0\n",
    "value 3 goes to bot 1\n",
    "bot 1 gives low to output 1 and high to bot 0\n",
    "bot 0 gives low to output 2 and high to output 0\n",
    "value 2 goes to bot 2\n",
    "'''"
   ]
  },
  {
   "cell_type": "code",
   "execution_count": 5,
   "id": "37e7dc52",
   "metadata": {},
   "outputs": [
    {
     "name": "stdout",
     "output_type": "stream",
     "text": [
      "bot 2 compared values values_to_check: {2, 5}\n",
      "30\n"
     ]
    }
   ],
   "source": [
    "instructions = [line for line in sample.split(\"\\n\") if line]\n",
    "bots = initialize_bots(instructions)\n",
    "parse_instructions(instructions, bots, set([2,5]))"
   ]
  },
  {
   "cell_type": "markdown",
   "id": "08d02401",
   "metadata": {},
   "source": [
    "## Puzzle 1\n"
   ]
  },
  {
   "cell_type": "code",
   "execution_count": 6,
   "id": "efe7da3e",
   "metadata": {
    "scrolled": false
   },
   "outputs": [
    {
     "name": "stdout",
     "output_type": "stream",
     "text": [
      "bot 181 compared values values_to_check: {17, 61}\n",
      "12567\n"
     ]
    }
   ],
   "source": [
    "import aocd\n",
    "instructions = aocd.get_data(day=10, year=2016)\n",
    "instructions = [line for line in instructions.split(\"\\n\") if line]\n",
    "bots = initialize_bots(instructions)\n",
    "parse_instructions(instructions, bots, set([61,17]))"
   ]
  },
  {
   "cell_type": "code",
   "execution_count": null,
   "id": "29604c6b",
   "metadata": {},
   "outputs": [],
   "source": []
  }
 ],
 "metadata": {
  "kernelspec": {
   "display_name": "Python 3 (ipykernel)",
   "language": "python",
   "name": "python3"
  },
  "language_info": {
   "codemirror_mode": {
    "name": "ipython",
    "version": 3
   },
   "file_extension": ".py",
   "mimetype": "text/x-python",
   "name": "python",
   "nbconvert_exporter": "python",
   "pygments_lexer": "ipython3",
   "version": "3.8.15"
  }
 },
 "nbformat": 4,
 "nbformat_minor": 5
}
