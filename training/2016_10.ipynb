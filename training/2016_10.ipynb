{
 "cells": [
  {
   "cell_type": "code",
   "execution_count": 1,
   "id": "b88467a5",
   "metadata": {},
   "outputs": [],
   "source": [
    "import re"
   ]
  },
  {
   "cell_type": "code",
   "execution_count": 6,
   "id": "4a038eec",
   "metadata": {},
   "outputs": [],
   "source": [
    "class Bot():\n",
    "    def __init__(self, value=None):\n",
    "        if(value is not None):\n",
    "            self.values = set([value])\n",
    "        else:\n",
    "            self.values = set([])\n",
    "        \n",
    "    def add(self, value):\n",
    "        if(len(self.values) < 2):\n",
    "            self.values.add(value)\n",
    "        else:\n",
    "            print(\"error, bot cannot hold more than 2 values\")          "
   ]
  },
  {
   "cell_type": "code",
   "execution_count": 112,
   "id": "96679772",
   "metadata": {},
   "outputs": [],
   "source": [
    "def parse_instructions(instructions, values_to_check):\n",
    "    bots = {}\n",
    "    while(len(instructions) != 0):\n",
    "        for instruction in instructions:\n",
    "            if(\"value\" in instruction):\n",
    "                value, bot_number = re.findall('[0-9]+', instruction)\n",
    "                if(bots.get(bot_number)):\n",
    "                    #bot already exists\n",
    "                    bots.get(bot_number).add(int(value))\n",
    "                else:\n",
    "                    bots[bot_number] = Bot(int(value))\n",
    "                instructions.remove(instruction)\n",
    "                \n",
    "                \n",
    "            elif(\"gives\" in instruction):\n",
    "#                 for key in bots:\n",
    "#                     print(\"status:\", key, bots[key].values)\n",
    "#                 print(\"instruction:\", instruction)\n",
    "                instruction_ = instruction.split(\" \")\n",
    "                giver, receiver_low, receiver_high = instruction_[1], (instruction_[5], instruction_[6]), (instruction_[-2], instruction_[-1])\n",
    "                \n",
    "                \n",
    "                if(bots.get(giver) is not None):\n",
    "                    if(bots.get(giver).values == values_to_check):\n",
    "                        print(f\"Bot {giver} compared values values_to_check: {bots.get(giver).values}\")\n",
    "                        instructions = []\n",
    "                        break\n",
    "\n",
    "                    elif(len(bots.get(giver).values) == 2):\n",
    "                        high_value = int(bots.get(giver).values.pop())\n",
    "                        low_value = int(bots.get(giver).values.pop())\n",
    "\n",
    "                        if(receiver_low[0] == \"bot\"):\n",
    "                            if(bots.get(receiver_low[1])):\n",
    "                                bots.get(receiver_low[1]).add(low_value)\n",
    "                            else:\n",
    "                                bots[receiver_low[1]] = Bot(low_value)\n",
    "                        if(receiver_high[0] == \"bot\"):\n",
    "                            if(bots.get(receiver_high[1])):        \n",
    "                                bots.get(receiver_high[1]).add(high_value)\n",
    "                            else:\n",
    "                                bots[receiver_high[1]] = Bot(high_value) \n",
    "                        instructions.remove(instruction)\n",
    "#                     else:\n",
    "#                         print(f\"Skipping because bot {giver} does not have 2 values: {bots.get(giver).values}\")\n",
    "#                 else:\n",
    "#                     print(f\"Skipping because bot {giver} does not exist\")\n",
    "#             print(f\"Remaining instructions: {len(instructions)}\")"
   ]
  },
  {
   "cell_type": "markdown",
   "id": "436d2303",
   "metadata": {},
   "source": [
    "## Sample"
   ]
  },
  {
   "cell_type": "code",
   "execution_count": 113,
   "id": "85f0ae20",
   "metadata": {},
   "outputs": [],
   "source": [
    "sample = '''\n",
    "value 5 goes to bot 2\n",
    "bot 2 gives low to bot 1 and high to bot 0\n",
    "value 3 goes to bot 1\n",
    "bot 1 gives low to output 1 and high to bot 0\n",
    "bot 0 gives low to output 2 and high to output 0\n",
    "value 2 goes to bot 2\n",
    "'''"
   ]
  },
  {
   "cell_type": "code",
   "execution_count": 114,
   "id": "37e7dc52",
   "metadata": {},
   "outputs": [
    {
     "name": "stdout",
     "output_type": "stream",
     "text": [
      "Bot 2 compared values values_to_check: {2, 5}\n"
     ]
    }
   ],
   "source": [
    "instructions = [line for line in sample.split(\"\\n\") if line]\n",
    "parse_instructions(instructions, set([2,5]))"
   ]
  },
  {
   "cell_type": "markdown",
   "id": "08d02401",
   "metadata": {},
   "source": [
    "## Puzzle 1\n"
   ]
  },
  {
   "cell_type": "code",
   "execution_count": 115,
   "id": "efe7da3e",
   "metadata": {
    "scrolled": true
   },
   "outputs": [],
   "source": [
    "import aocd\n",
    "instructions = aocd.get_data(day=10, year=2016)\n",
    "instructions = [line for line in instructions.split(\"\\n\") if line]\n",
    "parse_instructions(instructions, {17,61})"
   ]
  },
  {
   "cell_type": "code",
   "execution_count": null,
   "id": "0684b22c",
   "metadata": {},
   "outputs": [],
   "source": []
  }
 ],
 "metadata": {
  "kernelspec": {
   "display_name": "Python 3 (ipykernel)",
   "language": "python",
   "name": "python3"
  },
  "language_info": {
   "codemirror_mode": {
    "name": "ipython",
    "version": 3
   },
   "file_extension": ".py",
   "mimetype": "text/x-python",
   "name": "python",
   "nbconvert_exporter": "python",
   "pygments_lexer": "ipython3",
   "version": "3.8.15"
  }
 },
 "nbformat": 4,
 "nbformat_minor": 5
}
