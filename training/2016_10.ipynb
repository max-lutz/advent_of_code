{
 "cells": [
  {
   "cell_type": "code",
   "execution_count": 4,
   "id": "05a3936d",
   "metadata": {},
   "outputs": [],
   "source": [
    "import re"
   ]
  },
  {
   "cell_type": "code",
   "execution_count": 128,
   "id": "0bd81af4",
   "metadata": {},
   "outputs": [],
   "source": [
    "class Bot():\n",
    "    def __init__(self, value=None):\n",
    "        if(value is not None):\n",
    "            self.values = set([value])\n",
    "        else:\n",
    "            self.values = set([])\n",
    "        \n",
    "    def add(self, value):\n",
    "        if(len(self.values) < 2):\n",
    "            self.values.add(value)\n",
    "        else:\n",
    "            print(\"error, bot cannot hold more than 2 values\")          "
   ]
  },
  {
   "cell_type": "code",
   "execution_count": 129,
   "id": "b647fc6c",
   "metadata": {},
   "outputs": [],
   "source": [
    "def initialize_bots(instructions):\n",
    "    bots = {}\n",
    "    for instruction in instructions:\n",
    "        if(\"value\" in instruction):\n",
    "            value, bot_number = re.findall('[0-9]+', instruction)\n",
    "            if(bots.get(bot_number)):\n",
    "                #bot already exists\n",
    "                bots.get(bot_number).add(int(value))\n",
    "            else:\n",
    "                bots[bot_number] = Bot(int(value))\n",
    "    return bots"
   ]
  },
  {
   "cell_type": "code",
   "execution_count": 142,
   "id": "6b6af93f",
   "metadata": {},
   "outputs": [],
   "source": [
    "def apply_exchanges(instructions, bots, values_to_check):\n",
    "    for instruction in instructions:\n",
    "        if(\"gives\" in instruction):\n",
    "            for key in bots:\n",
    "                print(key, bots[key].values)\n",
    "            giver, receiver_low, receiver_high = re.findall('[0-9]+', instruction)          \n",
    "            if(bots.get(giver).values == values_to_check):\n",
    "                print(f\"Bot {giver} compared values values_to_check\")\n",
    "\n",
    "            high_value = int(bots.get(giver).values.pop())\n",
    "            low_value = int(bots.get(giver).values.pop())\n",
    "            \n",
    "            if(bots.get(receiver_low)):\n",
    "                bots.get(receiver_low).add(low_value)\n",
    "            else:\n",
    "                bots[receiver_low] = Bot(low_value)\n",
    "            if(bots.get(receiver_high)):        \n",
    "                bots.get(receiver_high).add(high_value)\n",
    "            else:\n",
    "                bots[receiver_high] = Bot(high_value)           "
   ]
  },
  {
   "cell_type": "markdown",
   "id": "df8a15a3",
   "metadata": {},
   "source": [
    "## Sample"
   ]
  },
  {
   "cell_type": "code",
   "execution_count": 143,
   "id": "5a70eb3a",
   "metadata": {},
   "outputs": [],
   "source": [
    "sample = '''\n",
    "value 5 goes to bot 2\n",
    "bot 2 gives low to bot 1 and high to bot 0\n",
    "value 3 goes to bot 1\n",
    "bot 1 gives low to output 1 and high to bot 0\n",
    "bot 0 gives low to output 2 and high to output 0\n",
    "value 2 goes to bot 2\n",
    "'''"
   ]
  },
  {
   "cell_type": "code",
   "execution_count": 144,
   "id": "61bbc12c",
   "metadata": {},
   "outputs": [
    {
     "name": "stdout",
     "output_type": "stream",
     "text": [
      "2 {2, 5}\n",
      "1 {3}\n",
      "Bot 2 compared values values_to_check\n",
      "2 set()\n",
      "1 {3, 5}\n",
      "0 {2}\n",
      "2 set()\n",
      "1 {5}\n",
      "0 {2, 3}\n"
     ]
    }
   ],
   "source": [
    "instructions = [line for line in sample.split(\"\\n\") if line]\n",
    "bots = initialize_bots(instructions)\n",
    "apply_exchanges(instructions, bots, set([2,5]))"
   ]
  },
  {
   "cell_type": "markdown",
   "id": "9dd5c01e",
   "metadata": {},
   "source": [
    "## Puzzle 1\n"
   ]
  },
  {
   "cell_type": "code",
   "execution_count": 147,
   "id": "75213e02",
   "metadata": {},
   "outputs": [],
   "source": [
    "import aocd\n",
    "instructions = aocd.get_data(day=10, year=2016)\n",
    "instructions = [line for line in instructions.split(\"\\n\") if line]\n",
    "bots = initialize_bots(instructions)\n",
    "# apply_exchanges(instructions, bots, set([17,61]))"
   ]
  },
  {
   "cell_type": "code",
   "execution_count": 148,
   "id": "81b9a3ab",
   "metadata": {},
   "outputs": [
    {
     "name": "stdout",
     "output_type": "stream",
     "text": [
      "49 {61}\n",
      "20 {19}\n",
      "133 {47}\n",
      "32 {5}\n",
      "146 {73, 29}\n",
      "118 {37}\n",
      "143 {23}\n",
      "176 {71}\n",
      "64 {3}\n",
      "122 {17}\n",
      "31 {59}\n",
      "34 {43}\n",
      "15 {2}\n",
      "93 {13}\n",
      "62 {53}\n",
      "208 {31}\n",
      "70 {11}\n",
      "117 {41}\n",
      "160 {7}\n",
      "104 {67}\n"
     ]
    }
   ],
   "source": [
    "for key in bots:\n",
    "    print(key, bots[key].values)"
   ]
  },
  {
   "cell_type": "code",
   "execution_count": null,
   "id": "0f28c27f",
   "metadata": {},
   "outputs": [],
   "source": []
  }
 ],
 "metadata": {
  "kernelspec": {
   "display_name": "Python 3 (ipykernel)",
   "language": "python",
   "name": "python3"
  },
  "language_info": {
   "codemirror_mode": {
    "name": "ipython",
    "version": 3
   },
   "file_extension": ".py",
   "mimetype": "text/x-python",
   "name": "python",
   "nbconvert_exporter": "python",
   "pygments_lexer": "ipython3",
   "version": "3.8.15"
  }
 },
 "nbformat": 4,
 "nbformat_minor": 5
}
