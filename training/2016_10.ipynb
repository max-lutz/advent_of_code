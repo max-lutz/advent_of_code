{
 "cells": [
  {
   "cell_type": "code",
   "execution_count": 154,
   "id": "b88467a5",
   "metadata": {},
   "outputs": [],
   "source": [
    "import re"
   ]
  },
  {
   "cell_type": "code",
   "execution_count": 155,
   "id": "4a038eec",
   "metadata": {},
   "outputs": [],
   "source": [
    "class Bot():\n",
    "    def __init__(self, value=None):\n",
    "        if(value is not None):\n",
    "            self.values = set([value])\n",
    "        else:\n",
    "            self.values = set([])\n",
    "        \n",
    "    def add(self, value):\n",
    "        if(len(self.values) < 2):\n",
    "            self.values.add(value)\n",
    "        else:\n",
    "            print(\"error, bot cannot hold more than 2 values\")          "
   ]
  },
  {
   "cell_type": "code",
   "execution_count": 156,
   "id": "e5a760cc",
   "metadata": {},
   "outputs": [],
   "source": [
    "def initialize_bots(instructions):\n",
    "    bots = {}\n",
    "    for instruction in instructions:\n",
    "        if(\"value\" in instruction):\n",
    "            value, bot_number = re.findall('[0-9]+', instruction)\n",
    "            if(bots.get(bot_number)):\n",
    "                #bot already exists\n",
    "                bots.get(bot_number).add(int(value))\n",
    "            else:\n",
    "                bots[bot_number] = Bot(int(value))\n",
    "    return bots"
   ]
  },
  {
   "cell_type": "code",
   "execution_count": 169,
   "id": "96679772",
   "metadata": {},
   "outputs": [],
   "source": [
    "def apply_exchanges(instructions, bots, values_to_check):\n",
    "    for instruction in instructions:\n",
    "        if(\"gives\" in instruction):\n",
    "            for key in bots:\n",
    "                print(\"status:\", key, bots[key].values)\n",
    "            print(\"instruction:\", instruction)\n",
    "            instruction = instruction.split(\" \")\n",
    "            giver, receiver_low, receiver_high = instruction[1], (instruction[5], instruction[6]), (instruction[-2], instruction[-1])\n",
    "            if(bots.get(giver).values == values_to_check):\n",
    "                print(f\"Bot {giver} compared values values_to_check\")\n",
    "\n",
    "            high_value = int(bots.get(giver).values.pop())\n",
    "            low_value = int(bots.get(giver).values.pop())\n",
    "            \n",
    "            if(receiver_low[0] == \"bot\"):\n",
    "                if(bots.get(receiver_low[1])):\n",
    "                    bots.get(receiver_low[1]).add(low_value)\n",
    "                else:\n",
    "                    bots[receiver_low[1]] = Bot(low_value)\n",
    "            if(receiver_high[0] == \"bot\"):\n",
    "                if(bots.get(receiver_high[1])):        \n",
    "                    bots.get(receiver_high[1]).add(high_value)\n",
    "                else:\n",
    "                    bots[receiver_high[1]] = Bot(high_value)           "
   ]
  },
  {
   "cell_type": "markdown",
   "id": "436d2303",
   "metadata": {},
   "source": [
    "## Sample"
   ]
  },
  {
   "cell_type": "code",
   "execution_count": 170,
   "id": "85f0ae20",
   "metadata": {},
   "outputs": [],
   "source": [
    "sample = '''\n",
    "value 5 goes to bot 2\n",
    "bot 2 gives low to bot 1 and high to bot 0\n",
    "value 3 goes to bot 1\n",
    "bot 1 gives low to output 1 and high to bot 0\n",
    "bot 0 gives low to output 2 and high to output 0\n",
    "value 2 goes to bot 2\n",
    "'''"
   ]
  },
  {
   "cell_type": "code",
   "execution_count": 171,
   "id": "37e7dc52",
   "metadata": {},
   "outputs": [
    {
     "name": "stdout",
     "output_type": "stream",
     "text": [
      "2 {2, 5}\n",
      "1 {3}\n"
     ]
    }
   ],
   "source": [
    "instructions = [line for line in sample.split(\"\\n\") if line]\n",
    "bots = initialize_bots(instructions)\n",
    "for key in bots:\n",
    "    print(key, bots[key].values)"
   ]
  },
  {
   "cell_type": "code",
   "execution_count": 172,
   "id": "7d6935f0",
   "metadata": {},
   "outputs": [
    {
     "name": "stdout",
     "output_type": "stream",
     "text": [
      "status: 2 {2, 5}\n",
      "status: 1 {3}\n",
      "instruction: bot 2 gives low to bot 1 and high to bot 0\n",
      "Bot 2 compared values values_to_check\n",
      "status: 2 set()\n",
      "status: 1 {3, 5}\n",
      "status: 0 {2}\n",
      "instruction: bot 1 gives low to output 1 and high to bot 0\n",
      "status: 2 set()\n",
      "status: 1 set()\n",
      "status: 0 {2, 3}\n",
      "instruction: bot 0 gives low to output 2 and high to output 0\n"
     ]
    }
   ],
   "source": [
    "apply_exchanges(instructions, bots, set([2,5]))"
   ]
  },
  {
   "cell_type": "markdown",
   "id": "08d02401",
   "metadata": {},
   "source": [
    "## Puzzle 1\n"
   ]
  },
  {
   "cell_type": "code",
   "execution_count": 173,
   "id": "efe7da3e",
   "metadata": {},
   "outputs": [
    {
     "name": "stdout",
     "output_type": "stream",
     "text": [
      "49 {61}\n",
      "20 {19}\n",
      "133 {47}\n",
      "32 {5}\n",
      "146 {73, 29}\n",
      "118 {37}\n",
      "143 {23}\n",
      "176 {71}\n",
      "64 {3}\n",
      "122 {17}\n",
      "31 {59}\n",
      "34 {43}\n",
      "15 {2}\n",
      "93 {13}\n",
      "62 {53}\n",
      "208 {31}\n",
      "70 {11}\n",
      "117 {41}\n",
      "160 {7}\n",
      "104 {67}\n"
     ]
    }
   ],
   "source": [
    "import aocd\n",
    "instructions = aocd.get_data(day=10, year=2016)\n",
    "instructions = [line for line in instructions.split(\"\\n\") if line]\n",
    "bots = initialize_bots(instructions)\n",
    "for key in bots:\n",
    "    print(key, bots[key].values)"
   ]
  },
  {
   "cell_type": "code",
   "execution_count": 174,
   "id": "9adf0296",
   "metadata": {},
   "outputs": [
    {
     "name": "stdout",
     "output_type": "stream",
     "text": [
      "status: 49 {61}\n",
      "status: 20 {19}\n",
      "status: 133 {47}\n",
      "status: 32 {5}\n",
      "status: 146 {73, 29}\n",
      "status: 118 {37}\n",
      "status: 143 {23}\n",
      "status: 176 {71}\n",
      "status: 64 {3}\n",
      "status: 122 {17}\n",
      "status: 31 {59}\n",
      "status: 34 {43}\n",
      "status: 15 {2}\n",
      "status: 93 {13}\n",
      "status: 62 {53}\n",
      "status: 208 {31}\n",
      "status: 70 {11}\n",
      "status: 117 {41}\n",
      "status: 160 {7}\n",
      "status: 104 {67}\n",
      "instruction: bot 49 gives low to bot 118 and high to bot 182\n"
     ]
    },
    {
     "ename": "KeyError",
     "evalue": "'pop from an empty set'",
     "output_type": "error",
     "traceback": [
      "\u001b[0;31m---------------------------------------------------------------------------\u001b[0m",
      "\u001b[0;31mKeyError\u001b[0m                                  Traceback (most recent call last)",
      "Cell \u001b[0;32mIn [174], line 1\u001b[0m\n\u001b[0;32m----> 1\u001b[0m \u001b[43mapply_exchanges\u001b[49m\u001b[43m(\u001b[49m\u001b[43minstructions\u001b[49m\u001b[43m,\u001b[49m\u001b[43m \u001b[49m\u001b[43mbots\u001b[49m\u001b[43m,\u001b[49m\u001b[43m \u001b[49m\u001b[38;5;28;43mset\u001b[39;49m\u001b[43m(\u001b[49m\u001b[43m[\u001b[49m\u001b[38;5;241;43m17\u001b[39;49m\u001b[43m,\u001b[49m\u001b[38;5;241;43m61\u001b[39;49m\u001b[43m]\u001b[49m\u001b[43m)\u001b[49m\u001b[43m)\u001b[49m\n",
      "Cell \u001b[0;32mIn [169], line 13\u001b[0m, in \u001b[0;36mapply_exchanges\u001b[0;34m(instructions, bots, values_to_check)\u001b[0m\n\u001b[1;32m     10\u001b[0m     \u001b[38;5;28mprint\u001b[39m(\u001b[38;5;124mf\u001b[39m\u001b[38;5;124m\"\u001b[39m\u001b[38;5;124mBot \u001b[39m\u001b[38;5;132;01m{\u001b[39;00mgiver\u001b[38;5;132;01m}\u001b[39;00m\u001b[38;5;124m compared values values_to_check\u001b[39m\u001b[38;5;124m\"\u001b[39m)\n\u001b[1;32m     12\u001b[0m high_value \u001b[38;5;241m=\u001b[39m \u001b[38;5;28mint\u001b[39m(bots\u001b[38;5;241m.\u001b[39mget(giver)\u001b[38;5;241m.\u001b[39mvalues\u001b[38;5;241m.\u001b[39mpop())\n\u001b[0;32m---> 13\u001b[0m low_value \u001b[38;5;241m=\u001b[39m \u001b[38;5;28mint\u001b[39m(\u001b[43mbots\u001b[49m\u001b[38;5;241;43m.\u001b[39;49m\u001b[43mget\u001b[49m\u001b[43m(\u001b[49m\u001b[43mgiver\u001b[49m\u001b[43m)\u001b[49m\u001b[38;5;241;43m.\u001b[39;49m\u001b[43mvalues\u001b[49m\u001b[38;5;241;43m.\u001b[39;49m\u001b[43mpop\u001b[49m\u001b[43m(\u001b[49m\u001b[43m)\u001b[49m)\n\u001b[1;32m     15\u001b[0m \u001b[38;5;28;01mif\u001b[39;00m(receiver_low[\u001b[38;5;241m0\u001b[39m] \u001b[38;5;241m==\u001b[39m \u001b[38;5;124m\"\u001b[39m\u001b[38;5;124mbot\u001b[39m\u001b[38;5;124m\"\u001b[39m):\n\u001b[1;32m     16\u001b[0m     \u001b[38;5;28;01mif\u001b[39;00m(bots\u001b[38;5;241m.\u001b[39mget(receiver_low[\u001b[38;5;241m1\u001b[39m])):\n",
      "\u001b[0;31mKeyError\u001b[0m: 'pop from an empty set'"
     ]
    }
   ],
   "source": [
    "apply_exchanges(instructions, bots, set([17,61]))"
   ]
  },
  {
   "cell_type": "code",
   "execution_count": null,
   "id": "fd2d80f9",
   "metadata": {},
   "outputs": [],
   "source": []
  }
 ],
 "metadata": {
  "kernelspec": {
   "display_name": "Python 3 (ipykernel)",
   "language": "python",
   "name": "python3"
  },
  "language_info": {
   "codemirror_mode": {
    "name": "ipython",
    "version": 3
   },
   "file_extension": ".py",
   "mimetype": "text/x-python",
   "name": "python",
   "nbconvert_exporter": "python",
   "pygments_lexer": "ipython3",
   "version": "3.8.15"
  }
 },
 "nbformat": 4,
 "nbformat_minor": 5
}
