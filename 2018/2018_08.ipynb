{
 "cells": [
  {
   "cell_type": "code",
   "execution_count": 1,
   "id": "b88467a5",
   "metadata": {},
   "outputs": [],
   "source": [
    "import re\n",
    "from collections import defaultdict"
   ]
  },
  {
   "cell_type": "code",
   "execution_count": 63,
   "id": "96679772",
   "metadata": {},
   "outputs": [],
   "source": [
    "def apply_instructions(instructions, meta_sum):\n",
    "    n_children, n_meta = instructions[0], instructions[1]\n",
    "    node = {\"n_children\":n_children, \"n_meta\":n_meta, \"children_nodes\":[], \"node_value\":0}\n",
    "    remaining_instructions = instructions[2:]\n",
    "    for c in range(n_children):\n",
    "        children_node, remaining_instructions, meta_sum = apply_instructions(remaining_instructions, meta_sum)\n",
    "        node[\"children_nodes\"].append(children_node)\n",
    "    if(node[\"n_meta\"] > 0):\n",
    "        node[\"metadata\"] = remaining_instructions[0:n_meta]\n",
    "        meta_sum += sum(remaining_instructions[0:n_meta])\n",
    "    else:\n",
    "        node[\"metadata\"] = []\n",
    "        \n",
    "    # calculate node value\n",
    "    if(node[\"n_children\"] == 0):\n",
    "        node[\"node_value\"] = sum(remaining_instructions[0:n_meta])\n",
    "    else:\n",
    "        for idx in node[\"metadata\"]:\n",
    "            try:\n",
    "                child_value = node[\"children_nodes\"][idx-1][\"node_value\"]\n",
    "                node[\"node_value\"] += child_value\n",
    "            except:\n",
    "                pass\n",
    "            \n",
    "    return node, remaining_instructions[n_meta:], meta_sum"
   ]
  },
  {
   "cell_type": "markdown",
   "id": "436d2303",
   "metadata": {},
   "source": [
    "## Sample"
   ]
  },
  {
   "cell_type": "code",
   "execution_count": 64,
   "id": "85f0ae20",
   "metadata": {},
   "outputs": [],
   "source": [
    "sample = '''\n",
    "2 3 0 3 10 11 12 1 1 0 1 99 2 1 1 2\n",
    "'''"
   ]
  },
  {
   "cell_type": "code",
   "execution_count": 67,
   "id": "37e7dc52",
   "metadata": {},
   "outputs": [
    {
     "data": {
      "text/plain": [
       "(138, 66)"
      ]
     },
     "execution_count": 67,
     "metadata": {},
     "output_type": "execute_result"
    }
   ],
   "source": [
    "instructions = [int(gr) for gr in sample.split() if gr]\n",
    "tree, _, meta_sum = apply_instructions(instructions, meta_sum = 0)\n",
    "meta_sum, tree[\"node_value\"]"
   ]
  },
  {
   "cell_type": "markdown",
   "id": "08d02401",
   "metadata": {},
   "source": [
    "## Puzzle 1\n"
   ]
  },
  {
   "cell_type": "code",
   "execution_count": 68,
   "id": "efe7da3e",
   "metadata": {
    "scrolled": false
   },
   "outputs": [
    {
     "data": {
      "text/plain": [
       "(45210, 22793)"
      ]
     },
     "execution_count": 68,
     "metadata": {},
     "output_type": "execute_result"
    }
   ],
   "source": [
    "import aocd\n",
    "instructions = aocd.get_data(day=8, year=2018)\n",
    "instructions = [int(gr) for gr in instructions.split() if gr]\n",
    "tree, _, meta_sum = apply_instructions(instructions, meta_sum = 0)\n",
    "meta_sum, tree[\"node_value\"]"
   ]
  }
 ],
 "metadata": {
  "kernelspec": {
   "display_name": "Python 3 (ipykernel)",
   "language": "python",
   "name": "python3"
  },
  "language_info": {
   "codemirror_mode": {
    "name": "ipython",
    "version": 3
   },
   "file_extension": ".py",
   "mimetype": "text/x-python",
   "name": "python",
   "nbconvert_exporter": "python",
   "pygments_lexer": "ipython3",
   "version": "3.8.15"
  }
 },
 "nbformat": 4,
 "nbformat_minor": 5
}
