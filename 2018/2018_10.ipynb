{
 "cells": [
  {
   "cell_type": "code",
   "execution_count": 1,
   "id": "b88467a5",
   "metadata": {},
   "outputs": [],
   "source": [
    "import re\n",
    "import numpy as np\n",
    "from scipy.sparse import csr_matrix\n",
    "import matplotlib.pyplot as plt"
   ]
  },
  {
   "cell_type": "code",
   "execution_count": 2,
   "id": "96679772",
   "metadata": {},
   "outputs": [],
   "source": [
    "def get_coords(points, step):\n",
    "    coords = []\n",
    "    for point in points:\n",
    "        x, y, dx, dy = point\n",
    "        coords.append([int(x)+(int(dx)*step), int(y)+(int(dy)*step)])\n",
    "    return coords"
   ]
  },
  {
   "cell_type": "code",
   "execution_count": 3,
   "id": "d2de3958",
   "metadata": {},
   "outputs": [],
   "source": [
    "def count_neighbours(points):\n",
    "    has_neighbour = [0]*len(points)\n",
    "    for i, point_1 in enumerate(points):\n",
    "        for point_2 in points:\n",
    "            x1, y1 = point_1\n",
    "            x2, y2 = point_2\n",
    "            \n",
    "            if(((x1 == x2) & abs(y1-y2) == 1) or ((y1 == y2) & abs(x1-x2) == 1)):\n",
    "                has_neighbour[i] = 1\n",
    "                \n",
    "    return sum(has_neighbour)\n",
    "\n",
    "def calculate_area(points):\n",
    "    points = np.array(points)\n",
    "    return (1 + points[:,0].max() - points[:,0].min()) * (1 + points[:,1].max() - points[:,1].min())"
   ]
  },
  {
   "cell_type": "code",
   "execution_count": 26,
   "id": "bc48e4d7",
   "metadata": {},
   "outputs": [],
   "source": [
    "def show(points):\n",
    "    points = np.array(points)\n",
    "    points[:,0] -= points[:,0].min()\n",
    "    points[:,1] -= points[:,1].min()\n",
    "    plt.imshow(csr_matrix(([1]*len(points), (points[:,1], points[:,0]))).toarray())\n",
    "    plt.show()"
   ]
  },
  {
   "cell_type": "markdown",
   "id": "436d2303",
   "metadata": {},
   "source": [
    "## Sample"
   ]
  },
  {
   "cell_type": "code",
   "execution_count": 4,
   "id": "85f0ae20",
   "metadata": {},
   "outputs": [],
   "source": [
    "sample = '''\n",
    "position=< 9,  1> velocity=< 0,  2>\n",
    "position=< 7,  0> velocity=<-1,  0>\n",
    "position=< 3, -2> velocity=<-1,  1>\n",
    "position=< 6, 10> velocity=<-2, -1>\n",
    "position=< 2, -4> velocity=< 2,  2>\n",
    "position=<-6, 10> velocity=< 2, -2>\n",
    "position=< 1,  8> velocity=< 1, -1>\n",
    "position=< 1,  7> velocity=< 1,  0>\n",
    "position=<-3, 11> velocity=< 1, -2>\n",
    "position=< 7,  6> velocity=<-1, -1>\n",
    "position=<-2,  3> velocity=< 1,  0>\n",
    "position=<-4,  3> velocity=< 2,  0>\n",
    "position=<10, -3> velocity=<-1,  1>\n",
    "position=< 5, 11> velocity=< 1, -2>\n",
    "position=< 4,  7> velocity=< 0, -1>\n",
    "position=< 8, -2> velocity=< 0,  1>\n",
    "position=<15,  0> velocity=<-2,  0>\n",
    "position=< 1,  6> velocity=< 1,  0>\n",
    "position=< 8,  9> velocity=< 0, -1>\n",
    "position=< 3,  3> velocity=<-1,  1>\n",
    "position=< 0,  5> velocity=< 0, -1>\n",
    "position=<-2,  2> velocity=< 2,  0>\n",
    "position=< 5, -2> velocity=< 1,  2>\n",
    "position=< 1,  4> velocity=< 2,  1>\n",
    "position=<-2,  7> velocity=< 2, -2>\n",
    "position=< 3,  6> velocity=<-1, -1>\n",
    "position=< 5,  0> velocity=< 1,  0>\n",
    "position=<-6,  0> velocity=< 2,  0>\n",
    "position=< 5,  9> velocity=< 1, -2>\n",
    "position=<14,  7> velocity=<-2,  0>\n",
    "position=<-3,  6> velocity=< 2, -1>\n",
    "'''"
   ]
  },
  {
   "cell_type": "code",
   "execution_count": 27,
   "id": "37e7dc52",
   "metadata": {},
   "outputs": [],
   "source": [
    "initial_points = [re.findall(r'-?\\d+', line) for line in sample.split(\"\\n\") if line]"
   ]
  },
  {
   "cell_type": "code",
   "execution_count": 33,
   "id": "838477c5",
   "metadata": {},
   "outputs": [
    {
     "data": {
      "image/png": "[encoded data removed]",
      "text/plain": [
       "<Figure size 640x480 with 1 Axes>"
      ]
     },
     "metadata": {},
     "output_type": "display_data"
    }
   ],
   "source": [
    "initial_points = [re.findall(r'-?\\d+', line) for line in sample.split(\"\\n\") if line]\n",
    "previous_area = calculate_area(get_coords(initial_points, 0))\n",
    "i = 1\n",
    "while True:\n",
    "    points = get_coords(initial_points, i)\n",
    "    area = calculate_area(points)\n",
    "    if(area > previous_area):\n",
    "        show(get_coords(initial_points, i-1))\n",
    "        break\n",
    "    i = i + 1\n",
    "    previous_area = area"
   ]
  },
  {
   "cell_type": "markdown",
   "id": "08d02401",
   "metadata": {},
   "source": [
    "## Puzzle 1\n"
   ]
  },
  {
   "cell_type": "code",
   "execution_count": 37,
   "id": "efe7da3e",
   "metadata": {
    "scrolled": false
   },
   "outputs": [
    {
     "name": "stdout",
     "output_type": "stream",
     "text": [
      "10391\n"
     ]
    },
    {
     "data": {
      "image/png": "[encoded data removed]",
      "text/plain": [
       "<Figure size 640x480 with 1 Axes>"
      ]
     },
     "metadata": {},
     "output_type": "display_data"
    }
   ],
   "source": [
    "import aocd\n",
    "instructions = aocd.get_data(day=10, year=2018)\n",
    "initial_points = [re.findall(r'-?\\d+', line) for line in instructions.split(\"\\n\") if line]\n",
    "previous_area = calculate_area(get_coords(initial_points, 0))\n",
    "i = 1\n",
    "while True:\n",
    "    points = get_coords(initial_points, i)\n",
    "    area = calculate_area(points)\n",
    "    if(area > previous_area):\n",
    "        print(i-1)\n",
    "        show(get_coords(initial_points, i-1))\n",
    "        break\n",
    "    i = i + 1\n",
    "    previous_area = area"
   ]
  },
  {
   "cell_type": "code",
   "execution_count": null,
   "id": "8a313703",
   "metadata": {},
   "outputs": [],
   "source": []
  }
 ],
 "metadata": {
  "kernelspec": {
   "display_name": "Python 3 (ipykernel)",
   "language": "python",
   "name": "python3"
  },
  "language_info": {
   "codemirror_mode": {
    "name": "ipython",
    "version": 3
   },
   "file_extension": ".py",
   "mimetype": "text/x-python",
   "name": "python",
   "nbconvert_exporter": "python",
   "pygments_lexer": "ipython3",
   "version": "3.8.15"
  }
 },
 "nbformat": 4,
 "nbformat_minor": 5
}
