{
 "cells": [
  {
   "cell_type": "code",
   "execution_count": 94,
   "id": "95d2d810",
   "metadata": {},
   "outputs": [],
   "source": [
    "import re\n",
    "import numpy as np"
   ]
  },
  {
   "cell_type": "code",
   "execution_count": 2,
   "id": "17412a78",
   "metadata": {},
   "outputs": [],
   "source": [
    "example = '''\n",
    "467..114..\n",
    "...*......\n",
    "..35..633.\n",
    "......#...\n",
    "617*......\n",
    ".....+.58.\n",
    "..592.....\n",
    "......755.\n",
    "...$.*....\n",
    ".664.598..\n",
    "'''"
   ]
  },
  {
   "cell_type": "code",
   "execution_count": 72,
   "id": "ce0e1814",
   "metadata": {},
   "outputs": [
    {
     "data": {
      "text/plain": [
       "array([['.', '.', '.', '.', '.', '.', '.', '.', '.', '.', '.', '.'],\n",
       "       ['.', '4', '6', '7', '.', '.', '1', '1', '4', '.', '.', '.'],\n",
       "       ['.', '.', '.', '.', '*', '.', '.', '.', '.', '.', '.', '.'],\n",
       "       ['.', '.', '.', '3', '5', '.', '.', '6', '3', '3', '.', '.'],\n",
       "       ['.', '.', '.', '.', '.', '.', '.', '#', '.', '.', '.', '.'],\n",
       "       ['.', '6', '1', '7', '*', '.', '.', '.', '.', '.', '.', '.'],\n",
       "       ['.', '.', '.', '.', '.', '.', '+', '.', '5', '8', '.', '.'],\n",
       "       ['.', '.', '.', '5', '9', '2', '.', '.', '.', '.', '.', '.'],\n",
       "       ['.', '.', '.', '.', '.', '.', '.', '7', '5', '5', '.', '.'],\n",
       "       ['.', '.', '.', '.', '$', '.', '*', '.', '.', '.', '.', '.'],\n",
       "       ['.', '.', '6', '6', '4', '.', '5', '9', '8', '.', '.', '.'],\n",
       "       ['.', '.', '.', '.', '.', '.', '.', '.', '.', '.', '.', '.']],\n",
       "      dtype='<U1')"
      ]
     },
     "execution_count": 72,
     "metadata": {},
     "output_type": "execute_result"
    }
   ],
   "source": [
    "def parse(text):\n",
    "    matrix = []\n",
    "    for line in text.split('\\n'):\n",
    "        if(line):\n",
    "            matrix.append(['.', *list(line), '.'])\n",
    "    \n",
    "    matrix.insert(0, ['.']*len(matrix[0]))\n",
    "    matrix.append(['.']*len(matrix[0]))\n",
    "    return np.array(matrix)\n",
    "            \n",
    "            \n",
    "m = parse(example)\n",
    "m"
   ]
  },
  {
   "cell_type": "code",
   "execution_count": 102,
   "id": "cd0c4494",
   "metadata": {},
   "outputs": [
    {
     "data": {
      "text/plain": [
       "4361"
      ]
     },
     "execution_count": 102,
     "metadata": {},
     "output_type": "execute_result"
    }
   ],
   "source": [
    "def process(text):\n",
    "    m = parse(text)\n",
    "\n",
    "    l = 0\n",
    "    c = 0\n",
    "\n",
    "    c_start = 0\n",
    "    c_end = 0\n",
    "    number_found = False\n",
    "    while l < len(m):\n",
    "        if(m[l,c] in ['0', '1', '2', '3', '4', '5', '6', '7', '8', '9']) and (not number_found):\n",
    "            c_start = c-1\n",
    "            number_found = True\n",
    "        elif (m[l,c] not in ['0', '1', '2', '3', '4', '5', '6', '7', '8', '9']) and (number_found):\n",
    "            c_end = c+1\n",
    "            number_found = False\n",
    "            # scan the area\n",
    "            area_to_scan = m[l-1:l+2, c_start:c_end]\n",
    "            if not len(np.where(~np.isin(area_to_scan, ['.', '0', '1', '2', '3', '4', '5', '6', '7', '8', '9']))[0]):\n",
    "                # delete numbers\n",
    "                m[l, c_start+1:c_end-1] = '.'\n",
    "\n",
    "        c += 1\n",
    "\n",
    "        if c >= len(m[0]):\n",
    "            c = 0\n",
    "            l += 1\n",
    "\n",
    "    m = m.tolist()\n",
    "    m = [''.join(line) for line in m]\n",
    "    m = ''.join(m)\n",
    "    return sum([int(n) for n in re.findall(r'\\d+', m)])\n",
    "\n",
    "process(example)"
   ]
  },
  {
   "cell_type": "code",
   "execution_count": 112,
   "id": "60b1b68e",
   "metadata": {},
   "outputs": [
    {
     "data": {
      "text/plain": [
       "467835"
      ]
     },
     "execution_count": 112,
     "metadata": {},
     "output_type": "execute_result"
    }
   ],
   "source": [
    "def process_2(text):    \n",
    "    m = parse(text)\n",
    "    \n",
    "    gear_rows, gear_cols = np.where(m == '*')\n",
    "    \n",
    "    gears = [{'l':l, 'c':c, 'ns':[]} for l, c in zip(gear_rows, gear_cols)]\n",
    "\n",
    "    l = 0\n",
    "    c = 0\n",
    "\n",
    "    c_start = 0\n",
    "    c_end = 0\n",
    "    number_found = False\n",
    "    while l < len(m):\n",
    "        if(m[l,c] in ['0', '1', '2', '3', '4', '5', '6', '7', '8', '9']) and (not number_found):\n",
    "            c_start = c-1\n",
    "            number_found = True\n",
    "        elif (m[l,c] not in ['0', '1', '2', '3', '4', '5', '6', '7', '8', '9']) and (number_found):\n",
    "            c_end = c+1\n",
    "            number_found = False\n",
    "            # scan the area\n",
    "            area_to_scan = m[l-1:l+2, c_start:c_end]\n",
    "#             print(area_to_scan)\n",
    "            if not len(np.where(~np.isin(area_to_scan, ['.', '0', '1', '2', '3', '4', '5', '6', '7', '8', '9']))[0]):\n",
    "                # delete numbers\n",
    "                m[l, c_start+1:c_end-1] = '.'\n",
    "            else:\n",
    "                for gear in gears[:]:\n",
    "                    if (gear['l'] >= l-1) and (gear['l'] <= l+1):\n",
    "                        if (gear['c'] >= c_start) and (gear['c'] < c_end):\n",
    "                            gear['ns'].append(int(''.join(m[l, c_start+1:c_end-1].tolist())))\n",
    "\n",
    "        c += 1\n",
    "\n",
    "        if c >= len(m[0]):\n",
    "            c = 0\n",
    "            l += 1\n",
    "\n",
    "    m = m.tolist()\n",
    "    m = [''.join(line) for line in m]\n",
    "    m = ''.join(m)\n",
    "    return sum([g['ns'][0]*g['ns'][1] for g in gears if len(g['ns']) == 2])\n",
    "\n",
    "process_2(example)"
   ]
  },
  {
   "cell_type": "code",
   "execution_count": 113,
   "id": "6eaf9870",
   "metadata": {},
   "outputs": [
    {
     "name": "stdout",
     "output_type": "stream",
     "text": [
      "544433\n",
      "76314915\n"
     ]
    }
   ],
   "source": [
    "import os\n",
    "with open('../token.txt') as f:\n",
    "    os.environ[\"AOC_SESSION\"] = f.readline()\n",
    "\n",
    "import aocd\n",
    "instructions = aocd.get_data(day=3, year=2023)\n",
    "print(process(instructions))\n",
    "print(process_2(instructions))"
   ]
  },
  {
   "cell_type": "code",
   "execution_count": null,
   "id": "ac83fe2d",
   "metadata": {},
   "outputs": [],
   "source": []
  }
 ],
 "metadata": {
  "kernelspec": {
   "display_name": "Python 3 (ipykernel)",
   "language": "python",
   "name": "python3"
  },
  "language_info": {
   "codemirror_mode": {
    "name": "ipython",
    "version": 3
   },
   "file_extension": ".py",
   "mimetype": "text/x-python",
   "name": "python",
   "nbconvert_exporter": "python",
   "pygments_lexer": "ipython3",
   "version": "3.8.18"
  }
 },
 "nbformat": 4,
 "nbformat_minor": 5
}
