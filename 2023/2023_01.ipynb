{
 "cells": [
  {
   "cell_type": "code",
   "execution_count": 1,
   "id": "17412a78",
   "metadata": {},
   "outputs": [],
   "source": [
    "example = '''\n",
    "1abc2\n",
    "pqr3stu8vwx\n",
    "a1b2c3d4e5f\n",
    "treb7uchet\n",
    "'''"
   ]
  },
  {
   "cell_type": "code",
   "execution_count": 2,
   "id": "3c8a5043",
   "metadata": {},
   "outputs": [
    {
     "data": {
      "text/plain": [
       "142"
      ]
     },
     "execution_count": 2,
     "metadata": {},
     "output_type": "execute_result"
    }
   ],
   "source": [
    "def process(text):\n",
    "    numbers = [''.join(filter(str.isdigit, line)) for line in text.split('\\n') if len(line)]\n",
    "    return sum([int(n[0]+n[-1]) for n in numbers])\n",
    "\n",
    "process(example)"
   ]
  },
  {
   "cell_type": "code",
   "execution_count": 38,
   "id": "b2fa337e",
   "metadata": {},
   "outputs": [
    {
     "data": {
      "text/plain": [
       "281"
      ]
     },
     "execution_count": 38,
     "metadata": {},
     "output_type": "execute_result"
    }
   ],
   "source": [
    "example = '''\n",
    "two1nine\n",
    "eightwothree\n",
    "abcone2threexyz\n",
    "xtwone3four\n",
    "4nineeightseven2\n",
    "zoneight234\n",
    "7pqrstsixteen\n",
    "'''\n",
    "\n",
    "def process_2(text):\n",
    "    sum_ = 0\n",
    "    for line in text.split('\\n'):\n",
    "        if(len(line)):\n",
    "            number_positions = []\n",
    "            for string, number in zip(['one', 'two', 'three', 'four', 'five', 'six', 'seven', 'eight', 'nine'],\n",
    "                                     [1,2,3,4,5,6,7,8,9]):\n",
    "                line_ = line.replace(string, str(number))\n",
    "                for i, c in enumerate(line_):\n",
    "                    if c.isnumeric():\n",
    "                        number_positions.append({'number':c, 'position':i, 'position_relative':i/len(line_)})\n",
    "            first_number = min(number_positions, key=lambda x:x['position'])['number']\n",
    "            last_number = max(number_positions, key=lambda x:x['position_relative'])['number']\n",
    "            sum_ += int(first_number + last_number)\n",
    "    return sum_\n",
    "\n",
    "process_2(example)"
   ]
  },
  {
   "cell_type": "code",
   "execution_count": 39,
   "id": "6eaf9870",
   "metadata": {},
   "outputs": [
    {
     "name": "stdout",
     "output_type": "stream",
     "text": [
      "55621\n",
      "53592\n"
     ]
    }
   ],
   "source": [
    "import aocd\n",
    "instructions = aocd.get_data(day=1, year=2023)\n",
    "print(process(instructions))\n",
    "print(process_2(instructions))"
   ]
  },
  {
   "cell_type": "code",
   "execution_count": null,
   "id": "42632479",
   "metadata": {},
   "outputs": [],
   "source": [
    "53570"
   ]
  }
 ],
 "metadata": {
  "kernelspec": {
   "display_name": "Python 3 (ipykernel)",
   "language": "python",
   "name": "python3"
  },
  "language_info": {
   "codemirror_mode": {
    "name": "ipython",
    "version": 3
   },
   "file_extension": ".py",
   "mimetype": "text/x-python",
   "name": "python",
   "nbconvert_exporter": "python",
   "pygments_lexer": "ipython3",
   "version": "3.8.18"
  }
 },
 "nbformat": 4,
 "nbformat_minor": 5
}
