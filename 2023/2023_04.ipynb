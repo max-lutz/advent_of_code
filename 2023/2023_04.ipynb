{
 "cells": [
  {
   "cell_type": "code",
   "execution_count": 1,
   "id": "17412a78",
   "metadata": {},
   "outputs": [],
   "source": [
    "example = '''\n",
    "Card 1: 41 48 83 86 17 | 83 86  6 31 17  9 48 53\n",
    "Card 2: 13 32 20 16 61 | 61 30 68 82 17 32 24 19\n",
    "Card 3:  1 21 53 59 44 | 69 82 63 72 16 21 14  1\n",
    "Card 4: 41 92 73 84 69 | 59 84 76 51 58  5 54 83\n",
    "Card 5: 87 83 26 28 32 | 88 30 70 12 93 22 82 36\n",
    "Card 6: 31 18 13 56 72 | 74 77 10 23 35 67 36 11\n",
    "'''"
   ]
  },
  {
   "cell_type": "code",
   "execution_count": 21,
   "id": "ce0e1814",
   "metadata": {
    "scrolled": true
   },
   "outputs": [
    {
     "data": {
      "text/plain": [
       "[{'winning_numbers': [41, 48, 83, 86, 17],\n",
       "  'numbers': [83, 86, 6, 31, 17, 9, 48, 53],\n",
       "  'n_copies': 1},\n",
       " {'winning_numbers': [13, 32, 20, 16, 61],\n",
       "  'numbers': [61, 30, 68, 82, 17, 32, 24, 19],\n",
       "  'n_copies': 1},\n",
       " {'winning_numbers': [1, 21, 53, 59, 44],\n",
       "  'numbers': [69, 82, 63, 72, 16, 21, 14, 1],\n",
       "  'n_copies': 1},\n",
       " {'winning_numbers': [41, 92, 73, 84, 69],\n",
       "  'numbers': [59, 84, 76, 51, 58, 5, 54, 83],\n",
       "  'n_copies': 1},\n",
       " {'winning_numbers': [87, 83, 26, 28, 32],\n",
       "  'numbers': [88, 30, 70, 12, 93, 22, 82, 36],\n",
       "  'n_copies': 1},\n",
       " {'winning_numbers': [31, 18, 13, 56, 72],\n",
       "  'numbers': [74, 77, 10, 23, 35, 67, 36, 11],\n",
       "  'n_copies': 1}]"
      ]
     },
     "execution_count": 21,
     "metadata": {},
     "output_type": "execute_result"
    }
   ],
   "source": [
    "def parse(text):\n",
    "    cards = []\n",
    "    for line in text.split('\\n'):\n",
    "        if(line):\n",
    "            card = {}\n",
    "            card['winning_numbers'] = [int(n) for n in line.split('|')[0].split(':')[1].split(' ') if len(n)]\n",
    "            card['numbers'] = [int(n) for n in line.split('|')[1].split(' ') if len(n)]\n",
    "            card['n_copies'] = 1\n",
    "            cards.append(card)\n",
    "    return cards\n",
    "            \n",
    "            \n",
    "c = parse(example)\n",
    "c"
   ]
  },
  {
   "cell_type": "code",
   "execution_count": 22,
   "id": "cd0c4494",
   "metadata": {},
   "outputs": [
    {
     "data": {
      "text/plain": [
       "13"
      ]
     },
     "execution_count": 22,
     "metadata": {},
     "output_type": "execute_result"
    }
   ],
   "source": [
    "def process(text):\n",
    "    cards = parse(text)\n",
    "    points = 0\n",
    "    for c in cards:\n",
    "        nb_winning_numbers = len([n for n in c['numbers'] if n in c['winning_numbers']])\n",
    "        points += int(2**(nb_winning_numbers-1))\n",
    "    return points\n",
    "\n",
    "process(example)"
   ]
  },
  {
   "cell_type": "code",
   "execution_count": 31,
   "id": "60b1b68e",
   "metadata": {},
   "outputs": [
    {
     "data": {
      "text/plain": [
       "30"
      ]
     },
     "execution_count": 31,
     "metadata": {},
     "output_type": "execute_result"
    }
   ],
   "source": [
    "def process_2(text):\n",
    "    cards = parse(text)\n",
    "    \n",
    "    for i, c in enumerate(cards):\n",
    "        nb_winning_numbers = len([n for n in c['numbers'] if n in c['winning_numbers']])\n",
    "        for j in range(i+1, i+nb_winning_numbers+1):\n",
    "            cards[j]['n_copies'] += c['n_copies']\n",
    "    \n",
    "    return sum([c['n_copies'] for c in cards])\n",
    "\n",
    "process_2(example)"
   ]
  },
  {
   "cell_type": "code",
   "execution_count": 32,
   "id": "6eaf9870",
   "metadata": {},
   "outputs": [
    {
     "name": "stdout",
     "output_type": "stream",
     "text": [
      "21959\n",
      "5132675\n"
     ]
    }
   ],
   "source": [
    "import os\n",
    "with open('../token.txt') as f:\n",
    "    os.environ[\"AOC_SESSION\"] = f.readline()\n",
    "\n",
    "import aocd\n",
    "instructions = aocd.get_data(day=4, year=2023)\n",
    "print(process(instructions))\n",
    "print(process_2(instructions))"
   ]
  },
  {
   "cell_type": "code",
   "execution_count": null,
   "id": "ac83fe2d",
   "metadata": {},
   "outputs": [],
   "source": []
  }
 ],
 "metadata": {
  "kernelspec": {
   "display_name": "Python 3 (ipykernel)",
   "language": "python",
   "name": "python3"
  },
  "language_info": {
   "codemirror_mode": {
    "name": "ipython",
    "version": 3
   },
   "file_extension": ".py",
   "mimetype": "text/x-python",
   "name": "python",
   "nbconvert_exporter": "python",
   "pygments_lexer": "ipython3",
   "version": "3.8.18"
  }
 },
 "nbformat": 4,
 "nbformat_minor": 5
}
