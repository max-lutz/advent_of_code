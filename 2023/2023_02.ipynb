{
 "cells": [
  {
   "cell_type": "code",
   "execution_count": 1,
   "id": "17412a78",
   "metadata": {},
   "outputs": [],
   "source": [
    "example = '''\n",
    "Game 1: 3 blue, 4 red; 1 red, 2 green, 6 blue; 2 green\n",
    "Game 2: 1 blue, 2 green; 3 green, 4 blue, 1 red; 1 green, 1 blue\n",
    "Game 3: 8 green, 6 blue, 20 red; 5 blue, 4 red, 13 green; 5 green, 1 red\n",
    "Game 4: 1 green, 3 red, 6 blue; 3 green, 6 red; 3 green, 15 blue, 14 red\n",
    "Game 5: 6 red, 1 blue, 3 green; 2 blue, 1 red, 2 green\n",
    "'''"
   ]
  },
  {
   "cell_type": "code",
   "execution_count": 2,
   "id": "ce0e1814",
   "metadata": {},
   "outputs": [
    {
     "data": {
      "text/plain": [
       "[{'id': 1, 'red': 4, 'blue': 6, 'green': 2},\n",
       " {'id': 2, 'red': 1, 'blue': 4, 'green': 3},\n",
       " {'id': 3, 'red': 20, 'blue': 6, 'green': 13},\n",
       " {'id': 4, 'red': 14, 'blue': 15, 'green': 3},\n",
       " {'id': 5, 'red': 6, 'blue': 2, 'green': 3}]"
      ]
     },
     "execution_count": 2,
     "metadata": {},
     "output_type": "execute_result"
    }
   ],
   "source": [
    "def parse(text):\n",
    "    games = []\n",
    "    for line in text.split('\\n'):\n",
    "        if(line):\n",
    "            game = {'id':int(line.split(':')[0].split(' ')[1]), 'red':0, 'blue':0, 'green':0}\n",
    "            for set_ in line.split(':')[1].split(';'):\n",
    "                for balls in set_.split(','):\n",
    "#                     print(balls.split(' ')[1:])\n",
    "                    n, color = balls.split(' ')[1:]\n",
    "                    game[color] = max(int(n), game[color])\n",
    "            games.append(game)\n",
    "#             print(games)\n",
    "    return games\n",
    "            \n",
    "parse(example)"
   ]
  },
  {
   "cell_type": "code",
   "execution_count": 3,
   "id": "3c8a5043",
   "metadata": {},
   "outputs": [
    {
     "data": {
      "text/plain": [
       "8"
      ]
     },
     "execution_count": 3,
     "metadata": {},
     "output_type": "execute_result"
    }
   ],
   "source": [
    "def process(text):\n",
    "    games = parse(text)\n",
    "    return sum([g['id'] for g in games if ((g['red'] <= 12) and (g['green'] <= 13) and (g['blue'] <= 14))])\n",
    "    \n",
    "process(example)"
   ]
  },
  {
   "cell_type": "code",
   "execution_count": 7,
   "id": "60b1b68e",
   "metadata": {},
   "outputs": [
    {
     "data": {
      "text/plain": [
       "2286"
      ]
     },
     "execution_count": 7,
     "metadata": {},
     "output_type": "execute_result"
    }
   ],
   "source": [
    "def process_2(text):\n",
    "    games = parse(text)\n",
    "    return sum([g['red']*g['green']*g['blue'] for g in games])\n",
    "    \n",
    "process_2(example)"
   ]
  },
  {
   "cell_type": "code",
   "execution_count": 8,
   "id": "6eaf9870",
   "metadata": {},
   "outputs": [
    {
     "name": "stdout",
     "output_type": "stream",
     "text": [
      "2176\n",
      "63700\n"
     ]
    }
   ],
   "source": [
    "import os\n",
    "with open('../token.txt') as f:\n",
    "    os.environ[\"AOC_SESSION\"] = f.readline()\n",
    "\n",
    "import aocd\n",
    "instructions = aocd.get_data(day=2, year=2023)\n",
    "print(process(instructions))\n",
    "print(process_2(instructions))"
   ]
  },
  {
   "cell_type": "code",
   "execution_count": null,
   "id": "ac83fe2d",
   "metadata": {},
   "outputs": [],
   "source": []
  }
 ],
 "metadata": {
  "kernelspec": {
   "display_name": "Python 3 (ipykernel)",
   "language": "python",
   "name": "python3"
  },
  "language_info": {
   "codemirror_mode": {
    "name": "ipython",
    "version": 3
   },
   "file_extension": ".py",
   "mimetype": "text/x-python",
   "name": "python",
   "nbconvert_exporter": "python",
   "pygments_lexer": "ipython3",
   "version": "3.8.18"
  }
 },
 "nbformat": 4,
 "nbformat_minor": 5
}
